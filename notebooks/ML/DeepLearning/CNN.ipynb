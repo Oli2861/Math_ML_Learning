{
 "cells": [
  {
   "cell_type": "code",
   "execution_count": 1,
   "metadata": {
    "ExecuteTime": {
     "end_time": "2023-09-24T17:35:48.579966Z",
     "start_time": "2023-09-24T17:35:48.499353900Z"
    }
   },
   "outputs": [],
   "source": [
    "import os\n",
    "import sys\n",
    "module_path = os.path.abspath(os.path.join('../../../'))\n",
    "if module_path not in sys.path:\n",
    "    sys.path.append(module_path)\n",
    "    \n",
    "from oli.math.math_utility import pretty_print_matrix\n",
    "import numpy as np"
   ]
  },
  {
   "cell_type": "markdown",
   "metadata": {
    "collapsed": false,
    "jupyter": {
     "outputs_hidden": false
    }
   },
   "source": [
    "## Kernel & Convolution:\n",
    "- A kernel is a matrix of weights learned using backpropagation.\n",
    "- Represents a receptive field.\n",
    "- Is shifted by the stride along the input.\n",
    "- Output size is determined by the kernel size and the stride.\n",
    "- Applying a kernel to an input is called convolution.\n",
    "- Can be viewed as a dot product between the kernel and the input.\n",
    "- The outputs are called feature maps.\n",
    "    - The amount of feature maps is equal to the amount of kernels.\n",
    "    - They are also called channels.\n",
    "\n",
    "The following kernel is of size $W_{kernel} = 3$ and $H_{kernel} = 1$ There are 3 kernels in total leading to 3 feature maps (output channels). The stride is set to $s = 1$."
   ]
  },
  {
   "cell_type": "code",
   "execution_count": 2,
   "metadata": {
    "ExecuteTime": {
     "end_time": "2023-09-24T17:35:48.641918500Z",
     "start_time": "2023-09-24T17:35:48.562967700Z"
    },
    "collapsed": false,
    "jupyter": {
     "outputs_hidden": false
    }
   },
   "outputs": [
    {
     "name": "stdout",
     "output_type": "stream",
     "text": [
      "Amount of kernels:  3\n",
      "Amount of biases:  3\n",
      "Kernel width:  3\n",
      "Kernel height:  1\n",
      "Amount of strides:  2\n"
     ]
    }
   ],
   "source": [
    "X = np.array([5, 6, 6, 2, 5, 6])\n",
    "\n",
    "kernel_list = [\n",
    "    [1, -1, 1],\n",
    "    [0, 0, 1],\n",
    "    [0, 0, 0],\n",
    "]\n",
    "biases = [1 for _ in kernel_list] # 1 Bias per kernel\n",
    "assert len(kernel_list) == len(biases), \"Each kernel has its own bias\"\n",
    "amout_of_kernels = len(kernel_list)\n",
    "kernel_width = len(kernel_list[0])\n",
    "kernel_height = 1\n",
    "amount_of_strides = int(len(X) / kernel_width)\n",
    "\n",
    "print(\"Amount of kernels: \", amout_of_kernels)\n",
    "print(\"Amount of biases: \", len(biases))\n",
    "print(\"Kernel width: \", kernel_width)\n",
    "print(\"Kernel height: \", kernel_height)\n",
    "print(\"Amount of strides: \", amount_of_strides)"
   ]
  },
  {
   "cell_type": "code",
   "execution_count": 3,
   "metadata": {
    "ExecuteTime": {
     "end_time": "2023-09-24T17:35:48.726538900Z",
     "start_time": "2023-09-24T17:35:48.642919300Z"
    },
    "collapsed": false,
    "jupyter": {
     "outputs_hidden": false
    }
   },
   "outputs": [
    {
     "name": "stdout",
     "output_type": "stream",
     "text": [
      "X slice currently visible to the kernel:\n",
      "[\n",
      "  5 \n",
      "  6 \n",
      "  6 \n",
      "]\n",
      "Kernel:\n",
      "[\n",
      "  1 \n",
      "  -1 \n",
      "  1 \n",
      "]\n",
      "Bias:\n",
      "1\n",
      "Convolution: 6\n",
      "--------------------\n",
      "X slice currently visible to the kernel:\n",
      "[\n",
      "  5 \n",
      "  6 \n",
      "  6 \n",
      "]\n",
      "Kernel:\n",
      "[\n",
      "  0 \n",
      "  0 \n",
      "  1 \n",
      "]\n",
      "Bias:\n",
      "1\n",
      "Convolution: 7\n",
      "--------------------\n",
      "X slice currently visible to the kernel:\n",
      "[\n",
      "  5 \n",
      "  6 \n",
      "  6 \n",
      "]\n",
      "Kernel:\n",
      "[\n",
      "  0 \n",
      "  0 \n",
      "  0 \n",
      "]\n",
      "Bias:\n",
      "1\n",
      "Convolution: 1\n",
      "--------------------\n",
      "==========\n",
      "X slice currently visible to the kernel:\n",
      "[\n",
      "  6 \n",
      "  6 \n",
      "  2 \n",
      "]\n",
      "Kernel:\n",
      "[\n",
      "  1 \n",
      "  -1 \n",
      "  1 \n",
      "]\n",
      "Bias:\n",
      "1\n",
      "Convolution: 3\n",
      "--------------------\n",
      "X slice currently visible to the kernel:\n",
      "[\n",
      "  6 \n",
      "  6 \n",
      "  2 \n",
      "]\n",
      "Kernel:\n",
      "[\n",
      "  0 \n",
      "  0 \n",
      "  1 \n",
      "]\n",
      "Bias:\n",
      "1\n",
      "Convolution: 3\n",
      "--------------------\n",
      "X slice currently visible to the kernel:\n",
      "[\n",
      "  6 \n",
      "  6 \n",
      "  2 \n",
      "]\n",
      "Kernel:\n",
      "[\n",
      "  0 \n",
      "  0 \n",
      "  0 \n",
      "]\n",
      "Bias:\n",
      "1\n",
      "Convolution: 1\n",
      "--------------------\n",
      "==========\n"
     ]
    }
   ],
   "source": [
    "for i in range(0, amount_of_strides):\n",
    "    current_visible_x = X[i:i + kernel_width]\n",
    "    for index, kernel in enumerate(kernel_list):\n",
    "        pretty_print_matrix(current_visible_x, \"X slice currently visible to the kernel:\")\n",
    "        pretty_print_matrix(kernel, \"Kernel:\")\n",
    "        print(f\"Bias:\\n{biases[index]}\")\n",
    "        \n",
    "        result = np.dot(current_visible_x, kernel) + biases[index]\n",
    "        assert result == np.sum(current_visible_x * kernel) + biases[index]\n",
    "        assert result == np.tensordot(current_visible_x, kernel, axes=1) + biases[index]\n",
    "        print(\"Convolution:\", result)\n",
    "        print(\"-\" * 20)\n",
    "    print(\"=\" * 10)"
   ]
  },
  {
   "cell_type": "markdown",
   "metadata": {
    "collapsed": false,
    "jupyter": {
     "outputs_hidden": false
    }
   },
   "source": [
    "### 2D Convolution:"
   ]
  },
  {
   "cell_type": "code",
   "execution_count": 4,
   "metadata": {
    "ExecuteTime": {
     "end_time": "2023-09-24T17:35:48.800574400Z",
     "start_time": "2023-09-24T17:35:48.721539400Z"
    },
    "collapsed": false,
    "jupyter": {
     "outputs_hidden": false
    }
   },
   "outputs": [
    {
     "name": "stdout",
     "output_type": "stream",
     "text": [
      "(3, 3)\n",
      "(3, 3)\n"
     ]
    },
    {
     "data": {
      "text/plain": [
       "9"
      ]
     },
     "execution_count": 4,
     "metadata": {},
     "output_type": "execute_result"
    }
   ],
   "source": [
    "test_x = np.array([\n",
    "    [1, 0, 1],\n",
    "    [0, 1, 0],\n",
    "    [1, 0, 1]\n",
    "])\n",
    "test_kernel = np.array([\n",
    "    [2, 0, 2],\n",
    "    [2, 2, 2],\n",
    "    [0, 2, 2]\n",
    "])\n",
    "bias = 1\n",
    "print(test_x.shape)\n",
    "print(test_kernel.shape)\n",
    "np.tensordot(test_x, test_kernel, axes=2) + bias"
   ]
  },
  {
   "cell_type": "code",
   "execution_count": 5,
   "metadata": {
    "ExecuteTime": {
     "end_time": "2023-09-24T17:35:48.877540100Z",
     "start_time": "2023-09-24T17:35:48.804572300Z"
    },
    "collapsed": false,
    "jupyter": {
     "outputs_hidden": false
    }
   },
   "outputs": [
    {
     "name": "stdout",
     "output_type": "stream",
     "text": [
      "Amount of kernels:  3\n",
      "Amount of biases:  3\n",
      "Kernel width:  3\n",
      "Kernel height:  3\n",
      "Amount of strides x:  2\n",
      "Amount of strides y:  2\n"
     ]
    }
   ],
   "source": [
    "X = np.array([\n",
    "    [2, 0, 2, 2, 0],\n",
    "    [2, 2, 2, 2, 2],\n",
    "    [0, 2, 2, 2, 0],\n",
    "    [0, 2, 2, 2, 0],\n",
    "    [0, 0, 2, 0, 0]\n",
    "])\n",
    "\n",
    "kernel_list = [\n",
    "    np.array([\n",
    "        [1, 0, 1],\n",
    "        [0, 1, 0],\n",
    "        [1, 0, 1]\n",
    "    ]),\n",
    "    np.array([\n",
    "        [0, 1, 0],\n",
    "        [1, 0, 1],\n",
    "        [0, 1, 0]\n",
    "    ]),\n",
    "    np.array([\n",
    "        [1, 0, 1],\n",
    "        [0, 1, 0],\n",
    "        [1, 0, 1]\n",
    "    ])\n",
    "]\n",
    "\n",
    "bias_list = [1 for _ in kernel_list]\n",
    "assert len(kernel_list) == len(bias_list), \"Each kernel has its own bias\"\n",
    "\n",
    "amout_of_kernels = len(kernel_list)\n",
    "kernel_height = len(kernel_list[0])\n",
    "kernel_width = len(kernel_list[0][0])\n",
    "stride = 2\n",
    "amount_of_strides_x = int((len(X) - kernel_width) / stride) + 1\n",
    "amount_of_strides_y = int((len(X[0]) - kernel_height) / stride) + 1\n",
    "\n",
    "\n",
    "print(\"Amount of kernels: \", amout_of_kernels)\n",
    "print(\"Amount of biases: \", len(bias_list))\n",
    "print(\"Kernel width: \", kernel_width)\n",
    "print(\"Kernel height: \", kernel_height)\n",
    "print(\"Amount of strides x: \", amount_of_strides_x)\n",
    "print(\"Amount of strides y: \", amount_of_strides_y)"
   ]
  },
  {
   "cell_type": "code",
   "execution_count": 6,
   "metadata": {
    "ExecuteTime": {
     "end_time": "2023-09-24T17:35:48.956424800Z",
     "start_time": "2023-09-24T17:35:48.879538900Z"
    },
    "collapsed": false,
    "jupyter": {
     "outputs_hidden": false
    }
   },
   "outputs": [
    {
     "name": "stdout",
     "output_type": "stream",
     "text": [
      "X slice currently visible to the kernel:\n",
      "[\n",
      "  2 0 2 \n",
      "  2 2 2 \n",
      "  0 2 2 \n",
      "]\n",
      "Kernel:\n",
      "[\n",
      "  1 0 1 \n",
      "  0 1 0 \n",
      "  1 0 1 \n",
      "]\n",
      "Convolution:  9\n",
      "\n",
      "X slice currently visible to the kernel:\n",
      "[\n",
      "  2 0 2 \n",
      "  2 2 2 \n",
      "  0 2 2 \n",
      "]\n",
      "Kernel:\n",
      "[\n",
      "  0 1 0 \n",
      "  1 0 1 \n",
      "  0 1 0 \n",
      "]\n",
      "Convolution:  7\n",
      "\n",
      "X slice currently visible to the kernel:\n",
      "[\n",
      "  2 0 2 \n",
      "  2 2 2 \n",
      "  0 2 2 \n",
      "]\n",
      "Kernel:\n",
      "[\n",
      "  1 0 1 \n",
      "  0 1 0 \n",
      "  1 0 1 \n",
      "]\n",
      "Convolution:  9\n",
      "\n",
      "\n",
      "X slice currently visible to the kernel:\n",
      "[\n",
      "  0 2 2 \n",
      "  2 2 2 \n",
      "  2 2 2 \n",
      "]\n",
      "Kernel:\n",
      "[\n",
      "  1 0 1 \n",
      "  0 1 0 \n",
      "  1 0 1 \n",
      "]\n",
      "Convolution:  9\n",
      "\n",
      "X slice currently visible to the kernel:\n",
      "[\n",
      "  0 2 2 \n",
      "  2 2 2 \n",
      "  2 2 2 \n",
      "]\n",
      "Kernel:\n",
      "[\n",
      "  0 1 0 \n",
      "  1 0 1 \n",
      "  0 1 0 \n",
      "]\n",
      "Convolution:  9\n",
      "\n",
      "X slice currently visible to the kernel:\n",
      "[\n",
      "  0 2 2 \n",
      "  2 2 2 \n",
      "  2 2 2 \n",
      "]\n",
      "Kernel:\n",
      "[\n",
      "  1 0 1 \n",
      "  0 1 0 \n",
      "  1 0 1 \n",
      "]\n",
      "Convolution:  9\n",
      "\n",
      "\n",
      "X slice currently visible to the kernel:\n",
      "[\n",
      "  2 2 2 \n",
      "  0 2 2 \n",
      "  0 2 2 \n",
      "]\n",
      "Kernel:\n",
      "[\n",
      "  1 0 1 \n",
      "  0 1 0 \n",
      "  1 0 1 \n",
      "]\n",
      "Convolution:  9\n",
      "\n",
      "X slice currently visible to the kernel:\n",
      "[\n",
      "  2 2 2 \n",
      "  0 2 2 \n",
      "  0 2 2 \n",
      "]\n",
      "Kernel:\n",
      "[\n",
      "  0 1 0 \n",
      "  1 0 1 \n",
      "  0 1 0 \n",
      "]\n",
      "Convolution:  7\n",
      "\n",
      "X slice currently visible to the kernel:\n",
      "[\n",
      "  2 2 2 \n",
      "  0 2 2 \n",
      "  0 2 2 \n",
      "]\n",
      "Kernel:\n",
      "[\n",
      "  1 0 1 \n",
      "  0 1 0 \n",
      "  1 0 1 \n",
      "]\n",
      "Convolution:  9\n",
      "\n",
      "\n",
      "X slice currently visible to the kernel:\n",
      "[\n",
      "  2 2 2 \n",
      "  2 2 2 \n",
      "  2 2 2 \n",
      "]\n",
      "Kernel:\n",
      "[\n",
      "  1 0 1 \n",
      "  0 1 0 \n",
      "  1 0 1 \n",
      "]\n",
      "Convolution:  11\n",
      "\n",
      "X slice currently visible to the kernel:\n",
      "[\n",
      "  2 2 2 \n",
      "  2 2 2 \n",
      "  2 2 2 \n",
      "]\n",
      "Kernel:\n",
      "[\n",
      "  0 1 0 \n",
      "  1 0 1 \n",
      "  0 1 0 \n",
      "]\n",
      "Convolution:  9\n",
      "\n",
      "X slice currently visible to the kernel:\n",
      "[\n",
      "  2 2 2 \n",
      "  2 2 2 \n",
      "  2 2 2 \n",
      "]\n",
      "Kernel:\n",
      "[\n",
      "  1 0 1 \n",
      "  0 1 0 \n",
      "  1 0 1 \n",
      "]\n",
      "Convolution:  11\n",
      "\n",
      "\n"
     ]
    }
   ],
   "source": [
    "for y in range(0, amount_of_strides_y):\n",
    "    for x in range(0, amount_of_strides_x):\n",
    "        current_visible = X[y:y + kernel_height, x:x + kernel_width]\n",
    "        for index, kernel in enumerate(kernel_list):\n",
    "            pretty_print_matrix(current_visible, \"X slice currently visible to the kernel:\")\n",
    "            pretty_print_matrix(kernel, \"Kernel:\")\n",
    "            result = np.tensordot(current_visible, kernel, axes=2) + bias_list[index]\n",
    "            print(\"Convolution: \", result)\n",
    "            print()\n",
    "        print()"
   ]
  }
 ],
 "metadata": {
  "kernelspec": {
   "display_name": "Python 3 (ipykernel)",
   "language": "python",
   "name": "python3"
  },
  "language_info": {
   "codemirror_mode": {
    "name": "ipython",
    "version": 3
   },
   "file_extension": ".py",
   "mimetype": "text/x-python",
   "name": "python",
   "nbconvert_exporter": "python",
   "pygments_lexer": "ipython3",
   "version": "3.10.0"
  }
 },
 "nbformat": 4,
 "nbformat_minor": 4
}
