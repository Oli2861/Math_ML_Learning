{
 "cells": [
  {
   "cell_type": "markdown",
   "source": [
    "- Function\n",
    "    - Knows how to compute function in forward direction\n",
    "    - Knows how to compute derivative in back propagation\n",
    "    - Reference stored in grad_fn property of a tensor"
   ],
   "metadata": {
    "collapsed": false
   }
  },
  {
   "cell_type": "code",
   "execution_count": 2,
   "metadata": {
    "collapsed": true,
    "ExecuteTime": {
     "end_time": "2024-09-14T16:52:02.433784Z",
     "start_time": "2024-09-14T16:51:42.039784400Z"
    }
   },
   "outputs": [
    {
     "name": "stdout",
     "output_type": "stream",
     "text": [
      "tensor([[ 0.8271, -0.0532, -0.9936],\n",
      "        [ 0.0945, -2.5440,  0.5341],\n",
      "        [-2.2361, -0.3933, -0.5201],\n",
      "        [-1.0465, -0.8172, -1.2280],\n",
      "        [-1.2697,  0.7840, -1.3365]], requires_grad=True)\n",
      "tensor([ 1.0290, -1.8581,  0.3936], requires_grad=True)\n",
      "tensor([-2.6016, -4.8817, -3.1505], grad_fn=<AddBackward0>)\n",
      "\n",
      "tensor(0.0403, grad_fn=<BinaryCrossEntropyWithLogitsBackward0>)\n",
      "\n",
      "Gradient function for z = <AddBackward0 object at 0x000002358A372770>\n",
      "Gradient function for loss = <BinaryCrossEntropyWithLogitsBackward0 object at 0x000002358B489A20>\n"
     ]
    }
   ],
   "source": [
    "import torch\n",
    "\n",
    "x = torch.ones(5)\n",
    "y = torch.zeros(3)\n",
    "\n",
    "w = torch.randn(5, 3, requires_grad=True) # Weights (3 layers with 5 neurons each)\n",
    "print(w)\n",
    "b = torch.randn(3, requires_grad=True) # Biases (1 per layer)\n",
    "print(b)\n",
    "z = torch.matmul(x, w) + b # Forward: Prediction is matrix multiplication of feature and weights with bias addition\n",
    "print(z)\n",
    "print()\n",
    "\n",
    "loss = torch.nn.functional.binary_cross_entropy_with_logits(z, y) # Loss calculated based on prediction, label and the computational graph\n",
    "print(loss)\n",
    "\n",
    "print()\n",
    "print(f\"Gradient function for z = {z.grad_fn}\")\n",
    "print(f\"Gradient function for loss = {loss.grad_fn}\")"
   ]
  },
  {
   "cell_type": "markdown",
   "source": [
    "- Calculate derivative of loss function w.r.t params $\\frac{\\partial loss}{\\partial w}$ & $\\frac{\\partial loss}{\\partial b}$"
   ],
   "metadata": {
    "collapsed": false
   }
  },
  {
   "cell_type": "code",
   "execution_count": 3,
   "outputs": [
    {
     "name": "stdout",
     "output_type": "stream",
     "text": [
      "tensor([[0.0230, 0.0025, 0.0137],\n",
      "        [0.0230, 0.0025, 0.0137],\n",
      "        [0.0230, 0.0025, 0.0137],\n",
      "        [0.0230, 0.0025, 0.0137],\n",
      "        [0.0230, 0.0025, 0.0137]])\n",
      "tensor([0.0230, 0.0025, 0.0137])\n"
     ]
    }
   ],
   "source": [
    "loss.backward()\n",
    "print(w.grad)\n",
    "print(b.grad)"
   ],
   "metadata": {
    "collapsed": false,
    "ExecuteTime": {
     "end_time": "2024-09-14T16:52:02.492388300Z",
     "start_time": "2024-09-14T16:52:02.433784Z"
    }
   }
  },
  {
   "cell_type": "code",
   "execution_count": 3,
   "outputs": [],
   "source": [],
   "metadata": {
    "collapsed": false,
    "ExecuteTime": {
     "end_time": "2024-09-14T16:52:02.496389100Z",
     "start_time": "2024-09-14T16:52:02.435785200Z"
    }
   }
  }
 ],
 "metadata": {
  "kernelspec": {
   "display_name": "Python 3",
   "language": "python",
   "name": "python3"
  },
  "language_info": {
   "codemirror_mode": {
    "name": "ipython",
    "version": 2
   },
   "file_extension": ".py",
   "mimetype": "text/x-python",
   "name": "python",
   "nbconvert_exporter": "python",
   "pygments_lexer": "ipython2",
   "version": "2.7.6"
  }
 },
 "nbformat": 4,
 "nbformat_minor": 0
}
