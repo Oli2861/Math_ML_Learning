{
 "cells": [
  {
   "cell_type": "code",
   "execution_count": 62,
   "metadata": {
    "collapsed": true,
    "ExecuteTime": {
     "end_time": "2024-09-14T09:28:49.981219900Z",
     "start_time": "2024-09-14T09:28:49.883220500Z"
    }
   },
   "outputs": [
    {
     "data": {
      "text/plain": "True"
     },
     "execution_count": 62,
     "metadata": {},
     "output_type": "execute_result"
    }
   ],
   "source": [
    "import torch\n",
    "\n",
    "torch.cuda.is_available()"
   ]
  },
  {
   "cell_type": "markdown",
   "source": [
    "# Initialization"
   ],
   "metadata": {
    "collapsed": false
   }
  },
  {
   "cell_type": "code",
   "execution_count": 63,
   "outputs": [
    {
     "data": {
      "text/plain": "tensor([[1, 2],\n        [3, 4]])"
     },
     "execution_count": 63,
     "metadata": {},
     "output_type": "execute_result"
    }
   ],
   "source": [
    "x = torch.tensor([[1, 2], [3, 4]])\n",
    "x"
   ],
   "metadata": {
    "collapsed": false,
    "ExecuteTime": {
     "end_time": "2024-09-14T09:28:50.073219200Z",
     "start_time": "2024-09-14T09:28:49.978221400Z"
    }
   }
  },
  {
   "cell_type": "code",
   "execution_count": 64,
   "outputs": [
    {
     "name": "stdout",
     "output_type": "stream",
     "text": [
      "tensor([[1, 1],\n",
      "        [1, 1]])\n",
      "tensor([[1., 1.],\n",
      "        [1., 1.]])\n",
      "tensor([[0., 0.],\n",
      "        [0., 0.]])\n",
      "tensor([[0.3824, 0.2910],\n",
      "        [0.1449, 0.4841]])\n"
     ]
    }
   ],
   "source": [
    "x_ones = torch.ones_like(x)\n",
    "print(x_ones)\n",
    "x_ones = torch.ones(x.shape)\n",
    "print(x_ones)\n",
    "x_zero = torch.zeros(x.shape, dtype=torch.float)\n",
    "print(x_zero)\n",
    "x_rand = torch.rand_like(x, dtype=torch.float)\n",
    "print(x_rand)"
   ],
   "metadata": {
    "collapsed": false,
    "ExecuteTime": {
     "end_time": "2024-09-14T09:28:50.168220Z",
     "start_time": "2024-09-14T09:28:50.075221Z"
    }
   }
  },
  {
   "cell_type": "markdown",
   "source": [
    "## Properties"
   ],
   "metadata": {
    "collapsed": false
   }
  },
  {
   "cell_type": "code",
   "execution_count": 65,
   "outputs": [
    {
     "name": "stdout",
     "output_type": "stream",
     "text": [
      "Shape of tensor: torch.Size([2, 2])\n",
      "Datatype of tensor: torch.int64\n",
      "Datatype of tensor: torch.float32\n",
      "Device tensor is stored on: cpu\n"
     ]
    }
   ],
   "source": [
    "print(f\"Shape of tensor: {x.shape}\")\n",
    "print(f\"Datatype of tensor: {x.dtype}\")\n",
    "print(f\"Datatype of tensor: {x_zero.dtype}\")\n",
    "print(f\"Device tensor is stored on: {x.device}\")"
   ],
   "metadata": {
    "collapsed": false,
    "ExecuteTime": {
     "end_time": "2024-09-14T09:28:50.261220500Z",
     "start_time": "2024-09-14T09:28:50.169219300Z"
    }
   }
  },
  {
   "cell_type": "markdown",
   "source": [
    "## Send to device"
   ],
   "metadata": {
    "collapsed": false
   }
  },
  {
   "cell_type": "code",
   "execution_count": 66,
   "outputs": [
    {
     "data": {
      "text/plain": "tensor([[1, 2],\n        [3, 4]], device='cuda:0')"
     },
     "execution_count": 66,
     "metadata": {},
     "output_type": "execute_result"
    }
   ],
   "source": [
    "x = x.to(\"cuda\")\n",
    "x"
   ],
   "metadata": {
    "collapsed": false,
    "ExecuteTime": {
     "end_time": "2024-09-14T09:28:50.355221Z",
     "start_time": "2024-09-14T09:28:50.261220500Z"
    }
   }
  },
  {
   "cell_type": "markdown",
   "source": [
    "# Working with tensors\n",
    "## Indexing & Slicing"
   ],
   "metadata": {
    "collapsed": false
   }
  },
  {
   "cell_type": "code",
   "execution_count": 67,
   "outputs": [],
   "source": [
    "tensor = torch.tensor([\n",
    "    [1, 2, 3, 4],\n",
    "    [5, 6, 7, 8],\n",
    "    [9, 10, 11, 12],\n",
    "    [13, 14, 15, 16]\n",
    "])"
   ],
   "metadata": {
    "collapsed": false,
    "ExecuteTime": {
     "end_time": "2024-09-14T09:28:50.448220500Z",
     "start_time": "2024-09-14T09:28:50.355221Z"
    }
   }
  },
  {
   "cell_type": "code",
   "execution_count": 68,
   "outputs": [
    {
     "name": "stdout",
     "output_type": "stream",
     "text": [
      "First row:\n",
      "tensor([1, 2, 3, 4])\n",
      "\n",
      "First col:\n",
      "tensor([ 1,  5,  9, 13])\n",
      "\n",
      "Second + third col:\n",
      "tensor([[ 2,  3],\n",
      "        [ 6,  7],\n",
      "        [10, 11],\n",
      "        [14, 15]])\n",
      "\n"
     ]
    }
   ],
   "source": [
    "print(f\"First row:\\n{tensor[0]}\\n\")\n",
    "first_col = tensor[:,0]\n",
    "print(f\"First col:\\n{first_col}\\n\")\n",
    "second_and_third_col = tensor[:, 1:3]\n",
    "print(f\"Second + third col:\\n{second_and_third_col}\\n\")"
   ],
   "metadata": {
    "collapsed": false,
    "ExecuteTime": {
     "end_time": "2024-09-14T09:28:50.528254Z",
     "start_time": "2024-09-14T09:28:50.449220600Z"
    }
   }
  },
  {
   "cell_type": "code",
   "execution_count": 82,
   "outputs": [
    {
     "name": "stdout",
     "output_type": "stream",
     "text": [
      "tensor([[ 1],\n",
      "        [ 5],\n",
      "        [ 9],\n",
      "        [13]])\n",
      "tensor([[ 1,  2,  3],\n",
      "        [ 5,  6,  7],\n",
      "        [ 9, 10, 11],\n",
      "        [13, 14, 15]])\n",
      "tensor([[1, 5, 9]])\n",
      "tensor([[ 1,  2,  3],\n",
      "        [ 5,  6,  7],\n",
      "        [ 9, 10, 11],\n",
      "        [13, 14, 15],\n",
      "        [ 1,  5,  9]])\n"
     ]
    }
   ],
   "source": [
    "# Expand by one dimension & transpose (col)\n",
    "first_col_2d = first_col.expand([1, 4]).transpose(0, 1)\n",
    "print(first_col_2d)\n",
    "# Re-construct cols 1-3\n",
    "res = torch.cat([first_col_2d, second_and_third_col], dim=1)\n",
    "print(res)\n",
    "# Add first column as row below. First reduce to 3 elements & transpose the column to get a row\n",
    "to_add = first_col_2d[0:3,:].transpose(0, 1)\n",
    "print(to_add)\n",
    "res = torch.cat([res, to_add], dim=0)\n",
    "print(res)"
   ],
   "metadata": {
    "collapsed": false,
    "ExecuteTime": {
     "end_time": "2024-09-14T09:32:07.292526400Z",
     "start_time": "2024-09-14T09:32:07.199525300Z"
    }
   }
  },
  {
   "cell_type": "markdown",
   "source": [
    "## Arithmetic\n",
    "### Matrix multiplication"
   ],
   "metadata": {
    "collapsed": false
   }
  },
  {
   "cell_type": "code",
   "execution_count": 89,
   "outputs": [
    {
     "name": "stdout",
     "output_type": "stream",
     "text": [
      "tensor([[1, 2, 3],\n",
      "        [2, 3, 4]])\n",
      "tensor([[5, 6],\n",
      "        [7, 8],\n",
      "        [9, 0]])\n",
      "\n",
      "tensor([[46, 22],\n",
      "        [67, 36]])\n",
      "tensor([[46, 22],\n",
      "        [67, 36]])\n"
     ]
    }
   ],
   "source": [
    "a = torch.tensor([[1, 2, 3], [2, 3, 4]])\n",
    "b = torch.tensor([[5, 6], [7,8], [9,0]])\n",
    "print(a)\n",
    "print(b)\n",
    "print()\n",
    "print(a@b)\n",
    "print(a.matmul(b))"
   ],
   "metadata": {
    "collapsed": false,
    "ExecuteTime": {
     "end_time": "2024-09-14T09:35:48.290893200Z",
     "start_time": "2024-09-14T09:35:48.213922200Z"
    }
   }
  },
  {
   "cell_type": "markdown",
   "source": [
    "## Element-wise operations"
   ],
   "metadata": {
    "collapsed": false
   }
  },
  {
   "cell_type": "code",
   "execution_count": 96,
   "outputs": [
    {
     "name": "stdout",
     "output_type": "stream",
     "text": [
      "tensor([[ 5, 12, 21],\n",
      "        [16, 27,  0]])\n",
      "tensor([[ 5, 12, 21],\n",
      "        [16, 27,  0]])\n",
      "\n",
      "tensor([[ 5., 12., 21.],\n",
      "        [16., 27.,  0.]])\n"
     ]
    }
   ],
   "source": [
    "a = torch.tensor([[1, 2, 3], [2, 3, 4]])\n",
    "b = torch.tensor([[5, 6, 7], [8, 9, 0]])\n",
    "print(a*b)\n",
    "print(a.mul(b))\n",
    "print()\n",
    "\n",
    "result_tensor = torch.zeros(a.shape)\n",
    "torch.mul(a, b, out=result_tensor)\n",
    "print(result_tensor)"
   ],
   "metadata": {
    "collapsed": false,
    "ExecuteTime": {
     "end_time": "2024-09-14T09:39:40.741385200Z",
     "start_time": "2024-09-14T09:39:40.663384700Z"
    }
   }
  },
  {
   "cell_type": "code",
   "execution_count": 101,
   "outputs": [
    {
     "name": "stdout",
     "output_type": "stream",
     "text": [
      "tensor(81.)\n",
      "tensor(5)\n",
      "5\n",
      "tensor(10)\n"
     ]
    }
   ],
   "source": [
    "print(result_tensor.sum())\n",
    "\n",
    "single_element = torch.tensor(5)\n",
    "print(single_element.sum())\n",
    "print(single_element.item())\n",
    "\n",
    "print(single_element.add_(5))"
   ],
   "metadata": {
    "collapsed": false,
    "ExecuteTime": {
     "end_time": "2024-09-14T09:41:08.701606800Z",
     "start_time": "2024-09-14T09:41:08.623607100Z"
    }
   }
  },
  {
   "cell_type": "code",
   "execution_count": null,
   "outputs": [],
   "source": [],
   "metadata": {
    "collapsed": false
   }
  }
 ],
 "metadata": {
  "kernelspec": {
   "display_name": "Python 3",
   "language": "python",
   "name": "python3"
  },
  "language_info": {
   "codemirror_mode": {
    "name": "ipython",
    "version": 2
   },
   "file_extension": ".py",
   "mimetype": "text/x-python",
   "name": "python",
   "nbconvert_exporter": "python",
   "pygments_lexer": "ipython2",
   "version": "2.7.6"
  }
 },
 "nbformat": 4,
 "nbformat_minor": 0
}
