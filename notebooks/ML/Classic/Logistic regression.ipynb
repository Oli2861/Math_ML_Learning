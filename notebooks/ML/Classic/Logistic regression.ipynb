{
 "cells": [
  {
   "cell_type": "markdown",
   "source": [
    "# Logistic regression\n",
    "\n",
    "> Logistic regression is a classification algorithm used to assign observations to a discrete set of classes. It estimates the probability of an event occurring for an observation given a set of independent variables, each of which can be continuous or categorical.\n",
    "> Main difference to linear regression: Linear regression outputs continuous number values, logistic regression transforms its output using the logistic sigmoid function to return a probability value which can then be mapped to two or more discrete classes.\n",
    ">The hypothesis is defined as: $$h_w(x) = sigmoid(w x^T + w_0)$$\n",
    "\n",
    "Motivation: Assessing classification problems based on a regression approach (linear regression) is not optimal. \"Since the predicted outcome is not a probability, but a linear interpolation between points, there is no meaningful threshold at which you can distinguish one class from the other.\" [interpretable-ml-book](https://christophm.github.io/interpretable-ml-book/logistic.html)"
   ],
   "metadata": {
    "collapsed": false
   }
  },
  {
   "cell_type": "code",
   "execution_count": 40,
   "outputs": [],
   "source": [
    "import numpy as np\n",
    "import matplotlib.pyplot as plt\n",
    "\n",
    "from oli.ml.Activation_functions import sigmoid"
   ],
   "metadata": {
    "collapsed": false,
    "ExecuteTime": {
     "end_time": "2023-09-29T09:35:35.596119300Z",
     "start_time": "2023-09-29T09:35:35.492119100Z"
    }
   }
  },
  {
   "cell_type": "markdown",
   "source": [
    "## Data\n",
    "Made up\n",
    "- Features: $X$\n",
    "- Labels: $y$"
   ],
   "metadata": {
    "collapsed": false
   }
  },
  {
   "cell_type": "code",
   "execution_count": 41,
   "outputs": [],
   "source": [
    "X: np.ndarray = np.array([[1, 1], [1, 2], [2, 4], [2, 2], [2, 3]])\n",
    "y: np.ndarray = np.array([0, 0, 1, 1, 1])"
   ],
   "metadata": {
    "collapsed": false,
    "ExecuteTime": {
     "end_time": "2023-09-29T09:35:35.620120Z",
     "start_time": "2023-09-29T09:35:35.557120100Z"
    }
   }
  },
  {
   "cell_type": "markdown",
   "source": [
    "## Sigmoid function\n",
    "> The sigmoid function is a mathematical function used to map the predicted values to probabilities. It therefore transforms the output of the linear regression into a probability value between 0 and 1.\n",
    "> The sigmoid function is defined as: $$sigmoid(x) = \\frac{1}{1 + e^{-x}}$$"
   ],
   "metadata": {
    "collapsed": false
   }
  },
  {
   "cell_type": "code",
   "execution_count": 42,
   "metadata": {
    "collapsed": true,
    "ExecuteTime": {
     "end_time": "2023-09-29T09:35:35.821118900Z",
     "start_time": "2023-09-29T09:35:35.618121Z"
    }
   },
   "outputs": [
    {
     "data": {
      "text/plain": "<matplotlib.legend.Legend at 0x2507bb97580>"
     },
     "execution_count": 42,
     "metadata": {},
     "output_type": "execute_result"
    },
    {
     "data": {
      "text/plain": "<Figure size 640x480 with 1 Axes>",
      "image/png": "[encoded data removed]"
     },
     "metadata": {},
     "output_type": "display_data"
    }
   ],
   "source": [
    "x: np.ndarray = np.arange(-10, 10, 0.5)\n",
    "sig = sigmoid(x)\n",
    "plt.plot(sig)\n",
    "plt.legend(['sigmoid'])"
   ]
  },
  {
   "cell_type": "markdown",
   "source": [
    "## Cost function\n",
    "> For logistic regression it is not possible to use the mean squared error as cost function, because the cost function would be non-convex. This is because the sigmoid function is non-linear and the cost function would therefore have many local minima.\n",
    " > Therefore the cost function is defined as the negative log-likelihood of the data given the parameters $w$. Negative because the cost function should be minimized.\n",
    "> The cost function is defined as: $$J(w) = \\frac{1}{m} \\sum_{i=1}^{m} -y^{(i)} log(h_w(x^{(i)})) - (1 - y^{(i)}) log(1 - h_w(x^{(i)}))$$"
   ],
   "metadata": {
    "collapsed": false
   }
  },
  {
   "cell_type": "code",
   "execution_count": 43,
   "outputs": [],
   "source": [
    "def cost_function(label: np.ndarray, prediction: np.ndarray) -> float:\n",
    "    \"\"\"\n",
    "    Calculates the cost function for logistic regression.\n",
    "    :param label: The true labels.\n",
    "    :param prediction: The predicted labels.\n",
    "    :return: The cost.\n",
    "    \"\"\"\n",
    "    m: int = len(label)\n",
    "    return -1 / m * np.sum(label * np.log(prediction) + (1 - label) * np.log(1 - prediction))"
   ],
   "metadata": {
    "collapsed": false,
    "ExecuteTime": {
     "end_time": "2023-09-29T09:35:35.885120800Z",
     "start_time": "2023-09-29T09:35:35.824120500Z"
    }
   }
  },
  {
   "cell_type": "markdown",
   "source": [
    "## Model\n",
    "- Hypothesis: $$h_w(x) = sigmoid(w x^T + w_0)$$\n",
    "- Outputs: $\\hat y$ the predicted class\n",
    "\n",
    "##### Weights\n",
    "- Intercept: $w_0$ (bias, not multiplied with any feature)\n",
    "- Weights: $w_i$ (multiplied with feature $x_i$)\n",
    "Weights do not influence the probability linearly as the output is between 0 and 1."
   ],
   "metadata": {
    "collapsed": false
   }
  },
  {
   "cell_type": "code",
   "execution_count": 44,
   "outputs": [],
   "source": [
    "w_0: float = 1\n",
    "w_1: float = 1\n",
    "w_2: float = 1\n",
    "W = np.array([w_1, w_2])\n",
    "\n",
    "# Learning rate\n",
    "alpha: float = 0.01\n",
    "epochs: int = 5000"
   ],
   "metadata": {
    "collapsed": false,
    "ExecuteTime": {
     "end_time": "2023-09-29T09:35:35.948119900Z",
     "start_time": "2023-09-29T09:35:35.887119600Z"
    }
   }
  },
  {
   "cell_type": "markdown",
   "source": [
    "Weight update rule for intercept: $w_0 \\leftarrow w_0 - \\alpha \\frac{1}{m} \\sum_{i=1}^{m} (h_w(x^{(i)}) - y^{(i)})$\n",
    "Weight update rule for weights: $w_j \\leftarrow w_j - \\alpha \\frac{1}{m} \\sum_{i=1}^{m} (h_w(x^{(i)}) - y^{(i)}) x_j^{(i)}$"
   ],
   "metadata": {
    "collapsed": false
   }
  },
  {
   "cell_type": "code",
   "execution_count": 45,
   "outputs": [
    {
     "name": "stdout",
     "output_type": "stream",
     "text": [
      "Epoch: 0, Cost: 1.4153679559144356\n",
      "Epoch: 100, Cost: 0.8653252625724566\n",
      "Epoch: 200, Cost: 0.6352094666349204\n",
      "Epoch: 300, Cost: 0.6012624143886699\n",
      "Epoch: 400, Cost: 0.5850720221693048\n",
      "Epoch: 500, Cost: 0.5700194903521622\n",
      "Epoch: 600, Cost: 0.5556217969863312\n",
      "Epoch: 700, Cost: 0.5418350365666789\n",
      "Epoch: 800, Cost: 0.5286261977915697\n",
      "Epoch: 900, Cost: 0.5159640530072231\n",
      "Epoch: 1000, Cost: 0.503818962413672\n",
      "Epoch: 1100, Cost: 0.4921628659860017\n",
      "Epoch: 1200, Cost: 0.48096926311579175\n",
      "Epoch: 1300, Cost: 0.4702131765986636\n",
      "Epoch: 1400, Cost: 0.4598711042085215\n",
      "Epoch: 1500, Cost: 0.4499209611363297\n",
      "Epoch: 1600, Cost: 0.44034201612770163\n",
      "Epoch: 1700, Cost: 0.43111482368153226\n",
      "Epoch: 1800, Cost: 0.4222211542348395\n",
      "Epoch: 1900, Cost: 0.4136439238701982\n",
      "Epoch: 2000, Cost: 0.4053671247444413\n",
      "Epoch: 2100, Cost: 0.39737575714958906\n",
      "Epoch: 2200, Cost: 0.3896557638760101\n",
      "Epoch: 2300, Cost: 0.3821939673492654\n",
      "Epoch: 2400, Cost: 0.37497800985102203\n",
      "Epoch: 2500, Cost: 0.3679962970058376\n",
      "Epoch: 2600, Cost: 0.36123794461470266\n",
      "Epoch: 2700, Cost: 0.3546927288385132\n",
      "Epoch: 2800, Cost: 0.34835103967612857\n",
      "Epoch: 2900, Cost: 0.3422038376388398\n",
      "Epoch: 3000, Cost: 0.33624261349287154\n",
      "Epoch: 3100, Cost: 0.3304593509214245\n",
      "Epoch: 3200, Cost: 0.32484649194554205\n",
      "Epoch: 3300, Cost: 0.3193969049370063\n",
      "Epoch: 3400, Cost: 0.314103855055031\n",
      "Epoch: 3500, Cost: 0.30896097694057584\n",
      "Epoch: 3600, Cost: 0.3039622495066854\n",
      "Epoch: 3700, Cost: 0.2991019726696071\n",
      "Epoch: 3800, Cost: 0.2943747458729772\n",
      "Epoch: 3900, Cost: 0.28977544826561896\n",
      "Epoch: 4000, Cost: 0.2852992204021221\n",
      "Epoch: 4100, Cost: 0.28094144734409526\n",
      "Epoch: 4200, Cost: 0.2766977430486242\n",
      "Epoch: 4300, Cost: 0.27256393593885797\n",
      "Epoch: 4400, Cost: 0.268536055559717\n",
      "Epoch: 4500, Cost: 0.26461032022937947\n",
      "Epoch: 4600, Cost: 0.2607831256044297\n",
      "Epoch: 4700, Cost: 0.25705103408331886\n",
      "Epoch: 4800, Cost: 0.2534107649790996\n",
      "Epoch: 4900, Cost: 0.2498591853982317\n"
     ]
    }
   ],
   "source": [
    "for epoch in range(epochs):\n",
    "    y_hat: float = sigmoid(np.dot(W, X.T) + w_0)\n",
    "    cost = cost_function(y, y_hat)\n",
    "    w_0 = w_0 - alpha * (1 / len(y)) * np.sum(y_hat - y)\n",
    "    W = W - alpha * (1 / len(y)) * np.dot((y_hat - y), X)\n",
    "    if epoch % 100 == 0:\n",
    "        print(f'Epoch: {epoch}, Cost: {cost}')\n"
   ],
   "metadata": {
    "collapsed": false,
    "ExecuteTime": {
     "end_time": "2023-09-29T09:35:36.141119600Z",
     "start_time": "2023-09-29T09:35:35.951120500Z"
    }
   }
  },
  {
   "cell_type": "code",
   "execution_count": 46,
   "outputs": [
    {
     "name": "stdout",
     "output_type": "stream",
     "text": [
      "[0.26075186 0.39207597 0.92897536 0.79642772 0.87735152]\n",
      "[0 0 1 1 1]\n"
     ]
    }
   ],
   "source": [
    "pred = sigmoid(np.dot(W, X.T) + w_0)\n",
    "print(pred)\n",
    "print(y)"
   ],
   "metadata": {
    "collapsed": false,
    "ExecuteTime": {
     "end_time": "2023-09-29T09:35:36.213118400Z",
     "start_time": "2023-09-29T09:35:36.141119600Z"
    }
   }
  },
  {
   "cell_type": "code",
   "execution_count": 47,
   "outputs": [
    {
     "name": "stdout",
     "output_type": "stream",
     "text": [
      "Epoch: 0, Cost: 0.6931471805599454\n",
      "Epoch: 100, Cost: 0.5755523418967056\n",
      "Epoch: 200, Cost: 0.5605148967808153\n",
      "Epoch: 300, Cost: 0.5472709947148076\n",
      "Epoch: 400, Cost: 0.5345578376230535\n",
      "Epoch: 500, Cost: 0.5223253793184024\n",
      "Epoch: 600, Cost: 0.5105493474296509\n",
      "Epoch: 700, Cost: 0.4992072070877218\n",
      "Epoch: 800, Cost: 0.4882776292508897\n",
      "Epoch: 900, Cost: 0.47774044763683526\n",
      "Epoch: 1000, Cost: 0.4675766158888017\n",
      "Epoch: 1100, Cost: 0.45776815985375885\n",
      "Epoch: 1200, Cost: 0.44829812704894056\n",
      "Epoch: 1300, Cost: 0.4391505347192632\n",
      "Epoch: 1400, Cost: 0.4303103175419364\n",
      "Epoch: 1500, Cost: 0.4217632757998076\n",
      "Epoch: 1600, Cost: 0.41349602465410995\n",
      "Epoch: 1700, Cost: 0.4054959449875877\n",
      "Epoch: 1800, Cost: 0.39775113615628777\n",
      "Epoch: 1900, Cost: 0.39025037087950654\n",
      "Epoch: 2000, Cost: 0.3829830524094544\n",
      "Epoch: 2100, Cost: 0.3759391740522498\n",
      "Epoch: 2200, Cost: 0.3691092810571447\n",
      "Epoch: 2300, Cost: 0.362484434848941\n",
      "Epoch: 2400, Cost: 0.35605617954717045\n",
      "Epoch: 2500, Cost: 0.3498165106928514\n",
      "Epoch: 2600, Cost: 0.34375784608784116\n",
      "Epoch: 2700, Cost: 0.33787299864157094\n",
      "Epoch: 2800, Cost: 0.33215515111408744\n",
      "Epoch: 2900, Cost: 0.3265978326418643\n",
      "Epoch: 3000, Cost: 0.3211948969329674\n",
      "Epoch: 3100, Cost: 0.315940502020217\n",
      "Epoch: 3200, Cost: 0.3108290914644478\n",
      "Epoch: 3300, Cost: 0.30585537690440967\n",
      "Epoch: 3400, Cost: 0.3010143218549379\n",
      "Epoch: 3500, Cost: 0.2963011266605039\n",
      "Epoch: 3600, Cost: 0.2917112145169141\n",
      "Epoch: 3700, Cost: 0.2872402184796245\n",
      "Epoch: 3800, Cost: 0.28288396938275806\n",
      "Epoch: 3900, Cost: 0.2786384845983691\n",
      "Epoch: 4000, Cost: 0.27449995757073814\n",
      "Epoch: 4100, Cost: 0.2704647480654658\n",
      "Epoch: 4200, Cost: 0.26652937307783414\n",
      "Epoch: 4300, Cost: 0.2626904983493203\n",
      "Epoch: 4400, Cost: 0.25894493044525974\n",
      "Epoch: 4500, Cost: 0.25528960935048667\n",
      "Epoch: 4600, Cost: 0.2517216015433175\n",
      "Epoch: 4700, Cost: 0.2482380935115193\n",
      "Epoch: 4800, Cost: 0.24483638567690968\n",
      "Epoch: 4900, Cost: 0.24151388669800924\n",
      "[0.24582775 0.38554268 0.93497098 0.79508889 0.88192425]\n",
      "[0 0 1 1 1]\n"
     ]
    }
   ],
   "source": [
    "from oli.ml.models.LogisticRegression import LogisticRegression\n",
    "\n",
    "oli_lr = LogisticRegression(alpha=0.01, epochs=5000)\n",
    "oli_lr.fit(X, y)\n",
    "oli_pred = oli_lr.predict(X)\n",
    "print(oli_pred)\n",
    "print(y)"
   ],
   "metadata": {
    "collapsed": false,
    "ExecuteTime": {
     "end_time": "2023-09-29T09:35:36.391148400Z",
     "start_time": "2023-09-29T09:35:36.205121900Z"
    }
   }
  },
  {
   "cell_type": "markdown",
   "source": [
    "## Decision boundary\n",
    "> The decision boundary is the line that separates the area where $y = 0$ and where $y = 1$. It is created by the hypothesis function.\n",
    "> The decision boundary is defined by the weights and the incercept. In this case for two features: $$w_0 + w_1 x_1 + w_2 x_2$$\n",
    "> In general: $$w_0 +\\sum_{i=1}^{n} w_i x_i$$"
   ],
   "metadata": {
    "collapsed": false
   }
  },
  {
   "cell_type": "code",
   "execution_count": 48,
   "outputs": [
    {
     "name": "stdout",
     "output_type": "stream",
     "text": [
      "boundary_xs [1 2]\n",
      "w_0 -3.448244025747198\n",
      "W[0] 1.802709541546034\n",
      "W[1] 0.6034700849445969\n",
      "boundary_ys [ 2.72678717 -0.26045211]\n"
     ]
    },
    {
     "data": {
      "text/plain": "<Figure size 640x480 with 1 Axes>",
      "image/png": "[encoded data removed]"
     },
     "metadata": {},
     "output_type": "display_data"
    }
   ],
   "source": [
    "# Plot data.\n",
    "plt.scatter(X[:, 0], X[:, 1], c=y)\n",
    "\n",
    "# Determine length of visualized boundary based on min and max values of features.\n",
    "boundary_xs = np.array([np.min(X[:, 0]), np.max(X[:, 0])])\n",
    "print(\"boundary_xs\", boundary_xs)\n",
    "# The boundary line is of the form w_0 + w_1*x_1 + w_2*x_2 = 0.\n",
    "boundary_ys = (-1. / W[1]) * (W[0] * boundary_xs + w_0)\n",
    "print(\"w_0\", w_0)\n",
    "print(\"W[0]\", W[0])\n",
    "print(\"W[1]\", W[1])\n",
    "print(\"boundary_ys\", boundary_ys)\n",
    "plt.plot(boundary_xs, boundary_ys, label='Decision Boundary')\n",
    "\n",
    "plt.legend()\n",
    "plt.show()"
   ],
   "metadata": {
    "collapsed": false,
    "ExecuteTime": {
     "end_time": "2023-09-29T09:35:36.548120300Z",
     "start_time": "2023-09-29T09:35:36.392119200Z"
    }
   }
  },
  {
   "cell_type": "code",
   "execution_count": 48,
   "outputs": [],
   "source": [],
   "metadata": {
    "collapsed": false,
    "ExecuteTime": {
     "end_time": "2023-09-29T09:35:36.605145600Z",
     "start_time": "2023-09-29T09:35:36.551120100Z"
    }
   }
  }
 ],
 "metadata": {
  "kernelspec": {
   "display_name": "Python 3",
   "language": "python",
   "name": "python3"
  },
  "language_info": {
   "codemirror_mode": {
    "name": "ipython",
    "version": 2
   },
   "file_extension": ".py",
   "mimetype": "text/x-python",
   "name": "python",
   "nbconvert_exporter": "python",
   "pygments_lexer": "ipython2",
   "version": "2.7.6"
  }
 },
 "nbformat": 4,
 "nbformat_minor": 0
}
