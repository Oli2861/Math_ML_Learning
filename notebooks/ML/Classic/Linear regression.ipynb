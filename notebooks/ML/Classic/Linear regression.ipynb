{
 "cells": [
  {
   "cell_type": "markdown",
   "source": [
    "# Linear regression\n",
    ">Fit a linear equation of the form $h_w(x) = wx+w_0$ to data points $(x_i, y_i$) where $i = 1, 2, ..., n$.\n",
    ">Linear regression interpolates the data points by a line. Outputs are extrapolated based on the interpolation.\n",
    "- Notation per [AIMA](https://aima.cs.berkeley.edu/).\n",
    "\n",
    "Assumptions for linear regression models per [interpretable-ml-book](https://christophm.github.io/interpretable-ml-book/limo.html):\n",
    "- Requires linearity: The label must be a linear combination of the features.\n",
    "- Normality: Target outcome given the features must be normally distributed.\n",
    "- Homoscedasticity (constant variance): The variance of the error must be constant for all values of $x$.\n",
    "- Independence: The error terms must be independent of each other.\n",
    "- Fixed features: Input features are treated as fixed values, rather than RVs.\n",
    "- Absence of multicollinearity: The features must be linearly independent of each other. (Hard to attribute changes in the output to changes in a particular feature if the features are correlated. Therefore hard to adjust the weights.)"
   ],
   "metadata": {
    "collapsed": false
   }
  },
  {
   "cell_type": "code",
   "execution_count": 1,
   "outputs": [],
   "source": [
    "import np as np"
   ],
   "metadata": {
    "collapsed": false,
    "ExecuteTime": {
     "end_time": "2023-09-17T13:24:07.136449700Z",
     "start_time": "2023-09-17T13:24:06.998021200Z"
    }
   }
  },
  {
   "cell_type": "markdown",
   "source": [
    "# Data\n",
    "Taken from [sklearn](https://scikit-learn.org/stable/modules/generated/sklearn.linear_model.LinearRegression.html) to compare my implementation afterwards.\n",
    "- Features: $X$\n",
    "- Labels: $y$"
   ],
   "metadata": {
    "collapsed": false
   }
  },
  {
   "cell_type": "code",
   "execution_count": 2,
   "metadata": {
    "collapsed": true,
    "ExecuteTime": {
     "end_time": "2023-09-17T13:24:07.216450700Z",
     "start_time": "2023-09-17T13:24:07.137450400Z"
    }
   },
   "outputs": [
    {
     "name": "stdout",
     "output_type": "stream",
     "text": [
      "[[1 1]\n",
      " [1 2]\n",
      " [2 2]\n",
      " [2 3]]\n",
      "[ 6  8  9 11]\n"
     ]
    }
   ],
   "source": [
    "X: np.ndarray = np.array([[1, 1], [1, 2], [2, 2], [2, 3]])\n",
    "print(X)\n",
    "y: np.ndarray = np.dot(X, np.array([1, 2])) + 3\n",
    "print(y)"
   ]
  },
  {
   "cell_type": "markdown",
   "source": [
    "# Model\n",
    "- Hypothesis: $h_w(x) = wx+w_0$\n",
    "- Outputs: $y_i + \\epsilon_i$ ($\\epsilon_i$ is the error in positive / negative direction)\n",
    "##### Weights\n",
    "- Intercept: $w_0$ (bias, not multiplied with any feature)\n",
    "- Weights: $w_i$ (multiplied with feature $x_i$)"
   ],
   "metadata": {
    "collapsed": false
   }
  },
  {
   "cell_type": "code",
   "execution_count": 3,
   "outputs": [],
   "source": [
    "w_0: float = 1\n",
    "w_1: float = 1\n",
    "w_2: float = 1\n",
    "W = np.array([w_1, w_2])\n",
    "\n",
    "# Learning rate\n",
    "alpha: float = 0.01\n",
    "epochs: int = 5000"
   ],
   "metadata": {
    "collapsed": false,
    "ExecuteTime": {
     "end_time": "2023-09-17T13:24:07.295450200Z",
     "start_time": "2023-09-17T13:24:07.217451800Z"
    }
   }
  },
  {
   "cell_type": "markdown",
   "source": [
    "Weight update rule for intercept: $w_0 \\leftarrow w_0 - \\alpha(y-h_w(x))$.\n",
    "Weight update rule for weights: $w_i \\leftarrow w_i - \\alpha(y-h_w(x))x_i$."
   ],
   "metadata": {
    "collapsed": false
   }
  },
  {
   "cell_type": "code",
   "execution_count": 4,
   "outputs": [
    {
     "name": "stdout",
     "output_type": "stream",
     "text": [
      "Epoch 0: Loss -16\n",
      "Epoch 1000: Loss -0.022099870569299185\n",
      "Epoch 2000: Loss -0.001178929150551511\n",
      "Epoch 3000: Loss -6.455711109509821e-05\n",
      "Epoch 4000: Loss -3.5555962654143514e-06\n"
     ]
    }
   ],
   "source": [
    "for i in range(epochs):\n",
    "    y_hat: np.ndarray = np.dot(X, W) + w_0\n",
    "    loss: np.ndarray = y_hat - y\n",
    "    W = W - alpha * loss.dot(X)\n",
    "    w_0 = w_0 - alpha * loss.sum()\n",
    "    if i % 1000 == 0:\n",
    "        print(f\"Epoch {i}: Loss {loss.sum()}\")"
   ],
   "metadata": {
    "collapsed": false,
    "ExecuteTime": {
     "end_time": "2023-09-17T13:24:07.421276400Z",
     "start_time": "2023-09-17T13:24:07.296449100Z"
    }
   }
  },
  {
   "cell_type": "code",
   "execution_count": 5,
   "outputs": [
    {
     "name": "stdout",
     "output_type": "stream",
     "text": [
      "[ 5.99999977  7.99999969  9.00000021 11.00000014]\n",
      "[ 6  8  9 11]\n"
     ]
    }
   ],
   "source": [
    "pred = np.dot(X, W) + w_0\n",
    "print(pred)\n",
    "print(y)"
   ],
   "metadata": {
    "collapsed": false,
    "ExecuteTime": {
     "end_time": "2023-09-17T13:24:07.499276Z",
     "start_time": "2023-09-17T13:24:07.422276300Z"
    }
   }
  },
  {
   "cell_type": "markdown",
   "source": [
    "# Test"
   ],
   "metadata": {
    "collapsed": false
   }
  },
  {
   "cell_type": "code",
   "execution_count": 6,
   "outputs": [
    {
     "name": "stdout",
     "output_type": "stream",
     "text": [
      "[16.00000051 17.00000102]\n",
      "[16 17]\n"
     ]
    }
   ],
   "source": [
    "X_test: np.ndarray = np.array([[3, 5], [4, 5]])\n",
    "y_test: np.ndarray = np.dot(X_test, np.array([1, 2])) + 3\n",
    "\n",
    "pred_test = np.dot(X_test, W) + w_0\n",
    "print(pred_test)\n",
    "print(y_test)"
   ],
   "metadata": {
    "collapsed": false,
    "ExecuteTime": {
     "end_time": "2023-09-17T13:24:07.588276300Z",
     "start_time": "2023-09-17T13:24:07.501276Z"
    }
   }
  },
  {
   "cell_type": "markdown",
   "source": [
    "##### Compare with self-implemented class\n",
    "Just to verify that my class is implemented similarly to what I did above."
   ],
   "metadata": {
    "collapsed": false
   }
  },
  {
   "cell_type": "code",
   "execution_count": 7,
   "outputs": [
    {
     "name": "stdout",
     "output_type": "stream",
     "text": [
      "[16.00000059 17.00000119]\n",
      "[16 17]\n"
     ]
    }
   ],
   "source": [
    "from oli.ml.models.LinearRegression import LinearRegression as LinearRegressionOli\n",
    "oli_lr = LinearRegressionOli(alpha=0.01, epochs=5000)\n",
    "oli_lr.fit(X, y)\n",
    "pred = oli_lr.predict(X_test)\n",
    "\n",
    "print(pred)\n",
    "print(y_test)"
   ],
   "metadata": {
    "collapsed": false,
    "ExecuteTime": {
     "end_time": "2023-09-17T13:24:07.723276300Z",
     "start_time": "2023-09-17T13:24:07.582277600Z"
    }
   }
  },
  {
   "cell_type": "markdown",
   "source": [
    "## Compare with sklearn"
   ],
   "metadata": {
    "collapsed": false
   }
  },
  {
   "cell_type": "code",
   "execution_count": 8,
   "outputs": [
    {
     "name": "stdout",
     "output_type": "stream",
     "text": [
      "[16.00000059 17.00000119]\n",
      "[16 17]\n"
     ]
    }
   ],
   "source": [
    "from sklearn.linear_model import LinearRegression\n",
    "\n",
    "lr = LinearRegression().fit(X, y)\n",
    "lr = lr.predict(X_test)\n",
    "print(pred)\n",
    "print(y_test)"
   ],
   "metadata": {
    "collapsed": false,
    "ExecuteTime": {
     "end_time": "2023-09-17T13:24:09.003876500Z",
     "start_time": "2023-09-17T13:24:07.724276700Z"
    }
   }
  },
  {
   "cell_type": "markdown",
   "source": [
    "--> Looks good!\n",
    ":)"
   ],
   "metadata": {
    "collapsed": false
   }
  }
 ],
 "metadata": {
  "kernelspec": {
   "display_name": "Python 3",
   "language": "python",
   "name": "python3"
  },
  "language_info": {
   "codemirror_mode": {
    "name": "ipython",
    "version": 2
   },
   "file_extension": ".py",
   "mimetype": "text/x-python",
   "name": "python",
   "nbconvert_exporter": "python",
   "pygments_lexer": "ipython2",
   "version": "2.7.6"
  }
 },
 "nbformat": 4,
 "nbformat_minor": 0
}
