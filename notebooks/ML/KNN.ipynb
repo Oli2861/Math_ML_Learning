{
 "cells": [
  {
   "cell_type": "markdown",
   "source": [
    "# K-nearest neighbors\n",
    "Notation per Artificial Intelligence: A Modern Approach (AIMA)\n",
    "Further resources: [IBM](https://www.ibm.com/topics/knn)\n",
    ">K-nearest-neighbors is a clustering algorithm that is used to cluster data based on the distance between points.\n",
    ">A KNN-lookup uses a function $NN(k,x_q)$ to find the $k$-nearest examples for a given query $x_q$.\n",
    "\n",
    "Applications:\n",
    "- Classification by taking a majority vote of the nearest neighbors\n",
    "- Regression by averaging the values of the nearest neighbors\n",
    "\n",
    "Pro\n",
    "- Adapts easily to new examples\n",
    "\n",
    "Con\n",
    "- Bad scalability due to the need to store all the training data\n",
    "- Curse of dimensionality: Number of dimensions increases --> number of neighbors required to approximate the target function increases (exponentially)\n",
    "- Prone to overfitting: Curse of dimensiionality + small $k$ --> overfitting\n",
    "    - Requires dimensionality reduction\n",
    "    - Large $k$ can smooth out the decision boundary\n",
    "- Too large $k$ can lead to underfitting\n",
    "\n",
    "## Choosing a value for $k$\n",
    "- Low values of $k$\n",
    "    - High variance\n",
    "    - Low bias\n",
    "    - If $k=1$ (single neighbor) the algorithm is sensitive to noise and outliers.\n",
    "- High values of $k$\n",
    "    - Low variance\n",
    "    - High bias\n",
    "- Choosing a odd value for $k$ is recommended to avoid ties in the majority vote.\n",
    "\n",
    "## Distance functions\n",
    "There are many different distance functions that can be used to find the nearest neighbors. Usually the distance function is chosen based on the type of data that is being clustered.\n",
    "- Minkowski distance: $d(x,y) = \\sqrt[p]{\\sum_{i=1}^n |x_i - y_i|^p}$\n",
    "    - $p=1$ is the Manhattan distance: $d(x,y) = \\sum_{i=1}^n |x_i - y_i|$. Used to measure similar properties e.g. height, weight, age, etc.\n",
    "    - $p=2$ is the Euclidean distance: $d(x,y) = \\sqrt{\\sum_{i=1}^n (x_i - y_i)^2}$. Used to measure dissimilar properties e.g. color, shape, etc.\n",
    "- Hamming distance: $d(x,y) = \\sum_{i=1}^n |x_i - y_i|$. Used to measure the distance between binary vectors by counting the number of positions in which the corresponding symbols are different.\n",
    "\n",
    "## Preprocessing\n",
    "- Typical problem: Distance functions are affected by changes in unit directioins. For example, if we have a dataset with two features, one measured in meters and the other in kilometers, the distance function will be affected by the unit of measurement. \n",
    "- Solutions:\n",
    "    - Normalization: $x_i = \\frac{x_i - \\mu_i}{\\sigma_i}$\n",
    "    - Mahalanobis distance: $d(x,y) = \\sqrt{(x-y)^T S^{-1} (x-y)}$ where $S$ is the covariance matrix of the data. This distance function is invariant to linear transformations of the data.\n",
    "\n",
    "## KNN algorithm\n",
    "There are different ways to implement a KNN algorithm.\n",
    "- Computing the distance between the query point and all training points. Then choose the $k$ nearest neighbors.\n",
    "- Using $k$-d trees (balanced binary tree with $k$-dimensions) to store the training data. \n",
    "- Using locality-sensitive hashing (LSH) to store the training data. LSH maps similar items to the same buckets with high probability.\n",
    "\n",
    "### Locality-sensitive hashing LSH\n",
    "- Maps similar items to the same buckets with high probability --> tries to produce collisions for similar items.\n",
    "- Used to find similar items in a large dataset.\n",
    "- Used to store training data, makes it easy to find the nearest neighbors of a query point (similar items are stored in the same bucket).\n",
    "- There are different implementations of LSH, one is using a random projection [towards data science](https://towardsdatascience.com/locality-sensitive-hashing-for-music-search-f2f1940ace23), [machinelearninginterview](https://machinelearninginterview.com/topics/machine-learning/explain-locality-sensitive-hashing-for-nearest-neighbour-search/).\n",
    "\n",
    "##### LSH using random projection\n",
    "- Construct hash table where each bin is represented by a random vector $r$ described by a bitwise hash value. Examples with simillar hash values are likely to be similar.\n",
    "- The random vectors can be thought of as hyperplanes that divide the space. The bitwise hash value is determined by the side of the hyperplane on which the example lies. It therefore encodes its location relative to the hyperplane.\n",
    "\n",
    "Algorithm:\n",
    "1. Create $k$ vectors with length $d$.\n",
    "    - $k$: number of hash functions, size of bitwise hash value\n",
    "    - $d$: dimensionality of the data\n",
    "2. For each vector $v$ in the dataset.\n",
    "    - Compute dot product of random vectors $r_i$ and $v$: $h_i(v) = r_i \\cdot v$\n",
    "    - Set bit based on dot product result: set bit to 0: $h_i(v) = 1$ if $r_i \\cdot v \\geq 0$, $h_i(v) = 0$ if $r_i \\cdot v < 0$\n",
    "3. Concatenate bit values for $k$ calculated dot products.\n",
    "4. Repeat steps 2 and 3 for all vectors / observations in the dataset.\n",
    "5. Group observations with same bitwise hash value in the same bucket to create hash table."
   ],
   "metadata": {
    "collapsed": false
   },
   "id": "3045b9ad40769384"
  },
  {
   "cell_type": "code",
   "execution_count": 299,
   "outputs": [],
   "source": [
    "import numpy as np\n",
    "import matplotlib.pyplot as plt\n",
    "\n",
    "from oli.math.math_utility import pretty_print_matrix"
   ],
   "metadata": {
    "collapsed": false,
    "ExecuteTime": {
     "end_time": "2023-10-03T11:14:24.890283600Z",
     "start_time": "2023-10-03T11:14:24.827282600Z"
    }
   }
  },
  {
   "cell_type": "code",
   "execution_count": 300,
   "outputs": [],
   "source": [
    "SEED = 42\n",
    "np.random.seed(SEED)"
   ],
   "metadata": {
    "collapsed": false,
    "ExecuteTime": {
     "end_time": "2023-10-03T11:14:24.952283100Z",
     "start_time": "2023-10-03T11:14:24.890283600Z"
    }
   }
  },
  {
   "cell_type": "code",
   "execution_count": 301,
   "id": "initial_id",
   "metadata": {
    "collapsed": true,
    "ExecuteTime": {
     "end_time": "2023-10-03T11:14:25.017282900Z",
     "start_time": "2023-10-03T11:14:24.955282900Z"
    }
   },
   "outputs": [],
   "source": [
    "class LSHTable:\n",
    "    hash_table: dict\n",
    "    projections: np.ndarray\n",
    "\n",
    "    def __init__(self, hash_size_k: int, input_dimensions: int, print_info: bool = False):\n",
    "        \"\"\"\n",
    "        :param hash_size_k: The number of hash functions to use. This is the size of the bitwise hash value.\n",
    "        :param input_dimensions: The number of dimensions of the input vector.\n",
    "        \"\"\"\n",
    "        self.hash_table = {}\n",
    "        self.projections = np.random.randn(hash_size_k, input_dimensions)\n",
    "        if print_info:\n",
    "            pretty_print_matrix(self.projections, f\"Random projections generated for {input_dimensions} input dimensions and {hash_size_k} hash functions.\")\n",
    "\n",
    "    def _hash(self, input_vector: np.ndarray, print_info: bool = False):\n",
    "        dot_product: np.ndarray = np.dot(input_vector, self.projections.T)\n",
    "        bools: np.ndarray = (dot_product > 0).astype('int')\n",
    "        if print_info:\n",
    "            pretty_print_matrix(input_vector, \"Input vector.\")\n",
    "            pretty_print_matrix(self.projections, \"Random projections.\")\n",
    "            pretty_print_matrix(dot_product, \"Dot product of input vector and random projections.\")\n",
    "        return ''.join(bools.astype('str'))\n",
    "    \n",
    "    def __setitem__(self, input_vector: np.ndarray, label: str, print_info: bool = False):\n",
    "        hash_value = self._hash(input_vector, print_info)\n",
    "        self.hash_table[hash_value] = self.hash_table.get(hash_value, []) + [label]\n",
    "        if print_info:\n",
    "            print(f\"Added {input_vector} with label {label} to hash table.\\tHash value: {hash_value}\")\n",
    "\n",
    "    def __getitem__(self, input_vector: np.ndarray):\n",
    "        hash_value = self._hash(input_vector)\n",
    "        return self.hash_table.get(hash_value, [])"
   ]
  },
  {
   "cell_type": "code",
   "execution_count": 302,
   "outputs": [
    {
     "name": "stdout",
     "output_type": "stream",
     "text": [
      "Random projections generated for 2 input dimensions and 4 hash functions.\n",
      "[\n",
      "  0.4967141530112327 -0.13826430117118466 \n",
      "  0.6476885381006925 1.5230298564080254 \n",
      "  -0.23415337472333597 -0.23413695694918055 \n",
      "  1.5792128155073915 0.7674347291529088 \n",
      "]\n"
     ]
    }
   ],
   "source": [
    "lsh_table = LSHTable(4, 2, print_info=True)"
   ],
   "metadata": {
    "collapsed": false,
    "ExecuteTime": {
     "end_time": "2023-10-03T11:14:25.079282600Z",
     "start_time": "2023-10-03T11:14:25.017282900Z"
    }
   },
   "id": "bf996a5e7cb199c2"
  },
  {
   "cell_type": "code",
   "execution_count": 303,
   "outputs": [
    {
     "name": "stdout",
     "output_type": "stream",
     "text": [
      "Input vector.\n",
      "[\n",
      "  1 \n",
      "  2 \n",
      "]\n",
      "Random projections.\n",
      "[\n",
      "  0.4967141530112327 -0.13826430117118466 \n",
      "  0.6476885381006925 1.5230298564080254 \n",
      "  -0.23415337472333597 -0.23413695694918055 \n",
      "  1.5792128155073915 0.7674347291529088 \n",
      "]\n",
      "Dot product of input vector and random projections.\n",
      "[\n",
      "  0.22018555066886336 \n",
      "  3.693748250916743 \n",
      "  -0.7024272886216971 \n",
      "  3.1140822738132092 \n",
      "]\n",
      "Added [1, 2] with label a to hash table.\tHash value: 1101\n"
     ]
    }
   ],
   "source": [
    "lsh_table.__setitem__([1, 2], \"a\", print_info=True)\n",
    "lsh_table[[3, 4]] = \"b\"\n",
    "lsh_table[[50, 60]] = \"c\"\n",
    "lsh_table[[30, 40]] = \"e\""
   ],
   "metadata": {
    "collapsed": false,
    "ExecuteTime": {
     "end_time": "2023-10-03T11:14:25.145283200Z",
     "start_time": "2023-10-03T11:14:25.079282600Z"
    }
   }
  },
  {
   "cell_type": "code",
   "execution_count": 304,
   "outputs": [
    {
     "name": "stdout",
     "output_type": "stream",
     "text": [
      "{'1101': ['a', 'b', 'c', 'e']}\n"
     ]
    }
   ],
   "source": [
    "print(lsh_table.hash_table)"
   ],
   "metadata": {
    "collapsed": false,
    "ExecuteTime": {
     "end_time": "2023-10-03T11:14:25.204283400Z",
     "start_time": "2023-10-03T11:14:25.143284Z"
    }
   },
   "id": "3ff4279152882897"
  },
  {
   "cell_type": "code",
   "execution_count": 305,
   "outputs": [
    {
     "name": "stdout",
     "output_type": "stream",
     "text": [
      "['a', 'b', 'c', 'e']\n"
     ]
    }
   ],
   "source": [
    "query = np.array([2, 1])\n",
    "query_result = lsh_table[query]\n",
    "print(query_result)"
   ],
   "metadata": {
    "collapsed": false,
    "ExecuteTime": {
     "end_time": "2023-10-03T11:14:25.266283300Z",
     "start_time": "2023-10-03T11:14:25.206283100Z"
    }
   }
  },
  {
   "cell_type": "code",
   "execution_count": 306,
   "outputs": [
    {
     "name": "stdout",
     "output_type": "stream",
     "text": [
      "1101\n",
      "{'1101': ['a', 'b', 'c', 'e']}\n"
     ]
    }
   ],
   "source": [
    "print(lsh_table._hash(query))\n",
    "print(lsh_table.hash_table)"
   ],
   "metadata": {
    "collapsed": false,
    "ExecuteTime": {
     "end_time": "2023-10-03T11:14:25.328281800Z",
     "start_time": "2023-10-03T11:14:25.267284900Z"
    }
   }
  },
  {
   "cell_type": "code",
   "execution_count": 307,
   "outputs": [
    {
     "data": {
      "text/plain": "<Figure size 640x480 with 1 Axes>",
      "image/png": "[encoded data removed]"
     },
     "metadata": {},
     "output_type": "display_data"
    }
   ],
   "source": [
    "def plot_projections(projections: np.ndarray, input_vector: np.ndarray, ax: plt.Axes):\n",
    "    ax.set_xlim(-5, 5)\n",
    "    ax.set_ylim(-5, 5)\n",
    "    ax.set_xlabel(\"x\")\n",
    "    ax.set_ylabel(\"y\")\n",
    "    ax.set_title(\"Random projections\")\n",
    "    ax.scatter(input_vector[0], input_vector[1], color=\"red\", label=\"Input vector\")\n",
    "    for i, projection in enumerate(projections):\n",
    "        ax.plot([-5, 5], [-projection[0] * 5 / projection[1], projection[0] * 5 / projection[1]], label=f\"Projection {i}\")\n",
    "    ax.legend()\n",
    "\n",
    "plot_projections(lsh_table.projections, query, plt.gca())"
   ],
   "metadata": {
    "collapsed": false,
    "ExecuteTime": {
     "end_time": "2023-10-03T11:14:25.564311100Z",
     "start_time": "2023-10-03T11:14:25.330282300Z"
    }
   }
  },
  {
   "cell_type": "markdown",
   "source": [
    "A single LSH table is not enough to find the nearest neighbors of a query point because it only stores similar items with some probability. Therefore, we need to use multiple LSH tables to increase the probability of finding the nearest neighbors of a query point."
   ],
   "metadata": {
    "collapsed": false
   }
  },
  {
   "cell_type": "code",
   "execution_count": 308,
   "outputs": [],
   "source": [
    "class LSH:\n",
    "    lsh_tables: list\n",
    "\n",
    "    def __init__(self, hash_size_k: int, input_dimensions: int, num_tables: int):\n",
    "        self.lsh_tables = [LSHTable(hash_size_k, input_dimensions) for _ in range(num_tables)]\n",
    "\n",
    "    def __setitem__(self, input_vector: np.ndarray, label: str):\n",
    "        for lsh_table in self.lsh_tables:\n",
    "            lsh_table[input_vector] = label\n",
    "\n",
    "    def __getitem__(self, input_vector: np.ndarray):\n",
    "        results = []\n",
    "        for lsh_table in self.lsh_tables:\n",
    "            results.extend(lsh_table[input_vector])\n",
    "        return results"
   ],
   "metadata": {
    "collapsed": false,
    "ExecuteTime": {
     "end_time": "2023-10-03T11:14:25.633308Z",
     "start_time": "2023-10-03T11:14:25.568315500Z"
    }
   }
  },
  {
   "cell_type": "code",
   "execution_count": 309,
   "outputs": [],
   "source": [
    "# Example\n",
    "lsh = LSH(8, 2, 10)\n",
    "\n",
    "lsh[[1, 2]] = \"a\"\n",
    "lsh[[3, 4]] = \"b\"\n",
    "lsh[[50, 60]] = \"c\"\n",
    "lsh[[15, 20]] = \"d\"\n",
    "lsh[[30, 40]] = \"e\""
   ],
   "metadata": {
    "collapsed": false,
    "ExecuteTime": {
     "end_time": "2023-10-03T11:14:25.676282300Z",
     "start_time": "2023-10-03T11:14:25.614313700Z"
    }
   }
  },
  {
   "cell_type": "code",
   "execution_count": 310,
   "outputs": [
    {
     "name": "stdout",
     "output_type": "stream",
     "text": [
      "['c']\n"
     ]
    }
   ],
   "source": [
    "query = np.array([2, 1])\n",
    "print(lsh[query])"
   ],
   "metadata": {
    "collapsed": false,
    "ExecuteTime": {
     "end_time": "2023-10-03T11:14:25.723283800Z",
     "start_time": "2023-10-03T11:14:25.677313500Z"
    }
   }
  },
  {
   "cell_type": "code",
   "execution_count": 310,
   "outputs": [],
   "source": [],
   "metadata": {
    "collapsed": false,
    "ExecuteTime": {
     "end_time": "2023-10-03T11:14:25.744283Z",
     "start_time": "2023-10-03T11:14:25.724283300Z"
    }
   }
  }
 ],
 "metadata": {
  "kernelspec": {
   "display_name": "Python 3",
   "language": "python",
   "name": "python3"
  },
  "language_info": {
   "codemirror_mode": {
    "name": "ipython",
    "version": 2
   },
   "file_extension": ".py",
   "mimetype": "text/x-python",
   "name": "python",
   "nbconvert_exporter": "python",
   "pygments_lexer": "ipython2",
   "version": "2.7.6"
  }
 },
 "nbformat": 4,
 "nbformat_minor": 5
}
