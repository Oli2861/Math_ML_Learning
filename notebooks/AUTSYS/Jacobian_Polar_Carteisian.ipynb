{
 "cells": [
  {
   "cell_type": "code",
   "execution_count": 1,
   "metadata": {
    "collapsed": true,
    "ExecuteTime": {
     "end_time": "2023-09-17T13:22:37.551552800Z",
     "start_time": "2023-09-17T13:22:37.041553800Z"
    }
   },
   "outputs": [],
   "source": [
    "import sympy as sp"
   ]
  },
  {
   "cell_type": "code",
   "execution_count": 2,
   "outputs": [
    {
     "name": "stdout",
     "output_type": "stream",
     "text": [
      "The Jacobian matrix for the conversion from polar to Cartesian coordinates is:\n",
      "⎡cos(θ)  -r⋅sin(θ)⎤\n",
      "⎢                 ⎥\n",
      "⎣sin(θ)  r⋅cos(θ) ⎦\n"
     ]
    }
   ],
   "source": [
    "# Define the polar and Cartesian coordinates\n",
    "r, theta = sp.symbols('r theta')\n",
    "x, y = sp.symbols('x y')\n",
    "\n",
    "# Define the conversion equations from polar to Cartesian coordinates\n",
    "x = r * sp.cos(theta)\n",
    "y = r * sp.sin(theta)\n",
    "\n",
    "# Define the vector-valued function\n",
    "f = sp.Matrix([x, y])\n",
    "\n",
    "# Define the variables for the Jacobian matrix\n",
    "vars = [r, theta]\n",
    "\n",
    "# Calculate the Jacobian matrix\n",
    "J = f.jacobian(vars)\n",
    "\n",
    "# Print the Jacobian matrix\n",
    "print(\"The Jacobian matrix for the conversion from polar to Cartesian coordinates is:\")\n",
    "sp.pprint(J)"
   ],
   "metadata": {
    "collapsed": false,
    "ExecuteTime": {
     "end_time": "2023-09-17T13:22:37.823553300Z",
     "start_time": "2023-09-17T13:22:37.553552100Z"
    }
   }
  },
  {
   "cell_type": "code",
   "execution_count": 3,
   "outputs": [
    {
     "data": {
      "text/plain": "Matrix([\n[0, -1],\n[1,  0]])",
      "text/latex": "$\\displaystyle \\left[\\begin{matrix}0 & -1\\\\1 & 0\\end{matrix}\\right]$"
     },
     "execution_count": 3,
     "metadata": {},
     "output_type": "execute_result"
    }
   ],
   "source": [
    "J.subs({r: 1, theta: sp.pi / 2})"
   ],
   "metadata": {
    "collapsed": false,
    "ExecuteTime": {
     "end_time": "2023-09-17T13:22:37.933553Z",
     "start_time": "2023-09-17T13:22:37.824553500Z"
    }
   }
  },
  {
   "cell_type": "code",
   "execution_count": 3,
   "outputs": [],
   "source": [],
   "metadata": {
    "collapsed": false,
    "ExecuteTime": {
     "end_time": "2023-09-17T13:22:37.960583600Z",
     "start_time": "2023-09-17T13:22:37.934552800Z"
    }
   }
  }
 ],
 "metadata": {
  "kernelspec": {
   "display_name": "Python 3",
   "language": "python",
   "name": "python3"
  },
  "language_info": {
   "codemirror_mode": {
    "name": "ipython",
    "version": 2
   },
   "file_extension": ".py",
   "mimetype": "text/x-python",
   "name": "python",
   "nbconvert_exporter": "python",
   "pygments_lexer": "ipython2",
   "version": "2.7.6"
  }
 },
 "nbformat": 4,
 "nbformat_minor": 0
}
