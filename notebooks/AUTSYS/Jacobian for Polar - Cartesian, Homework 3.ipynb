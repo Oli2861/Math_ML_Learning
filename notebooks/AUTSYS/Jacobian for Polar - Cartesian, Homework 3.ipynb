{
 "cells": [
  {
   "cell_type": "code",
   "source": [
    "import sympy as sp"
   ],
   "execution_count": 1,
   "outputs": [],
   "metadata": {
    "datalore": {
     "node_id": "GZI1b4uFa9gd43778smNB4",
     "type": "CODE",
     "hide_input_from_viewers": false,
     "hide_output_from_viewers": false,
     "report_properties": {
      "rowId": "rURFCYmiaW8eft85FWkvFM"
     }
    },
    "ExecuteTime": {
     "end_time": "2023-09-17T13:22:52.350986100Z",
     "start_time": "2023-09-17T13:22:51.974812Z"
    }
   }
  },
  {
   "cell_type": "code",
   "source": [
    "# Define the polar and Cartesian coordinates\n",
    "r, theta = sp.symbols('r theta')\n",
    "x, y = sp.symbols('x y')\n",
    "\n",
    "# Define the conversion equations from polar to Cartesian coordinates\n",
    "x = r * sp.cos(theta)\n",
    "y = r * sp.sin(theta)\n",
    "\n",
    "# Define the vector-valued function\n",
    "f = sp.Matrix([x, y])\n",
    "\n",
    "# Define the variables for the Jacobian matrix\n",
    "vars = [r, theta]\n",
    "\n",
    "# Calculate the Jacobian matrix\n",
    "J = f.jacobian(vars)\n",
    "\n",
    "# Print the Jacobian matrix\n",
    "print(\"The Jacobian matrix for the conversion from polar to Cartesian coordinates is:\")\n",
    "sp.pprint(J)"
   ],
   "execution_count": 2,
   "outputs": [
    {
     "name": "stdout",
     "output_type": "stream",
     "text": [
      "The Jacobian matrix for the conversion from polar to Cartesian coordinates is:\n",
      "⎡cos(θ)  -r⋅sin(θ)⎤\n",
      "⎢                 ⎥\n",
      "⎣sin(θ)  r⋅cos(θ) ⎦\n"
     ]
    }
   ],
   "metadata": {
    "datalore": {
     "node_id": "TERIf3jolClpJ0El891jj6",
     "type": "CODE",
     "hide_input_from_viewers": false,
     "hide_output_from_viewers": false,
     "report_properties": {
      "rowId": "oljx77fd8o3WK8MGoLbLKs"
     }
    },
    "ExecuteTime": {
     "end_time": "2023-09-17T13:22:52.589260200Z",
     "start_time": "2023-09-17T13:22:52.354989Z"
    }
   }
  },
  {
   "cell_type": "code",
   "source": [
    "J.subs({r: 1, theta: sp.pi / 2})"
   ],
   "execution_count": 3,
   "outputs": [
    {
     "data": {
      "text/plain": "Matrix([\n[0, -1],\n[1,  0]])",
      "text/latex": "$\\displaystyle \\left[\\begin{matrix}0 & -1\\\\1 & 0\\end{matrix}\\right]$"
     },
     "execution_count": 3,
     "metadata": {},
     "output_type": "execute_result"
    }
   ],
   "metadata": {
    "datalore": {
     "node_id": "ptcxakJ7F16a3a9UFrPqEj",
     "type": "CODE",
     "hide_input_from_viewers": false,
     "hide_output_from_viewers": false,
     "report_properties": {
      "rowId": "U7KckHJnmopZtInGwlHZEZ"
     }
    },
    "ExecuteTime": {
     "end_time": "2023-09-17T13:22:52.683229900Z",
     "start_time": "2023-09-17T13:22:52.590231100Z"
    }
   }
  },
  {
   "cell_type": "markdown",
   "source": [
    "# Homework 3\n",
    "## Part 1\n",
    "Implement the non-linear transformation using the values of Chapter 2 Slide 25\n",
    "\n",
    "1. Fill in values\n",
    "(not sure which ones?)"
   ],
   "attachments": {},
   "metadata": {
    "datalore": {
     "node_id": "4b9WGYY03sWqIO5z6di8s4",
     "type": "MD",
     "hide_input_from_viewers": true,
     "hide_output_from_viewers": true
    }
   }
  },
  {
   "cell_type": "code",
   "source": [
    "import numpy as np\n",
    "import matplotlib.pyplot as plt\n",
    "from matplotlib.patches import Ellipse\n",
    "\n",
    "# stochastic variable POLAR with\n",
    "# x_POLAR representing the expected values (2-d)\n",
    "# S_Polar representing the variances of d and alpha (2x2 matrix)"
   ],
   "execution_count": 4,
   "outputs": [],
   "metadata": {
    "datalore": {
     "node_id": "eFPxOkUDplIOrh4ZHwxjKC",
     "type": "CODE",
     "hide_input_from_viewers": false,
     "hide_output_from_viewers": false,
     "report_properties": {
      "rowId": "VD9t3dMQ8K0ikacwcAMxQl"
     }
    },
    "ExecuteTime": {
     "end_time": "2023-09-17T13:22:53.192582100Z",
     "start_time": "2023-09-17T13:22:52.686230600Z"
    }
   }
  },
  {
   "cell_type": "markdown",
   "source": [
    "### Transform polar x_POLAR $\\rightarrow$ x_CARTESIAN"
   ],
   "attachments": {},
   "metadata": {
    "datalore": {
     "node_id": "S5t4y9TmlykAq88JLlh4OG",
     "type": "MD",
     "hide_input_from_viewers": true,
     "hide_output_from_viewers": true
    }
   }
  },
  {
   "cell_type": "code",
   "source": [
    "# 2-dimensional vector x_POLAR for expected values\n",
    "x_POLAR = np.array([50, 20])  # replace with your values\n",
    "\n",
    "# transformation F for vector of expected values\n",
    "r = np.sqrt(x_POLAR[0]**2 + x_POLAR[1]**2)\n",
    "theta = np.arctan2(x_POLAR[1], x_POLAR[0])\n",
    "x_CARTESIAN = np.array([r*np.cos(theta), r*np.sin(theta)])\n",
    "\n",
    "print(\"x_POLAR\", x_POLAR)\n",
    "print(\"r:\\n\", r)\n",
    "print(\"theta:\\n\", theta)\n",
    "print(\"x_CARTESIAN:\\n\", x_CARTESIAN)"
   ],
   "execution_count": 5,
   "outputs": [
    {
     "name": "stdout",
     "output_type": "stream",
     "text": [
      "x_POLAR [50 20]\n",
      "r:\n",
      " 53.85164807134504\n",
      "theta:\n",
      " 0.3805063771123649\n",
      "x_CARTESIAN:\n",
      " [50. 20.]\n"
     ]
    }
   ],
   "metadata": {
    "datalore": {
     "node_id": "uu234V52S5BO8s6UQjRdFH",
     "type": "CODE",
     "hide_input_from_viewers": true,
     "hide_output_from_viewers": true
    },
    "ExecuteTime": {
     "end_time": "2023-09-17T13:22:53.302554800Z",
     "start_time": "2023-09-17T13:22:53.195586400Z"
    }
   }
  },
  {
   "cell_type": "markdown",
   "source": [
    "### Transformation S_POLAR $\\rightarrow$ S_CARTESIAN"
   ],
   "attachments": {},
   "metadata": {
    "datalore": {
     "node_id": "6rvzU09kUE3j7xlsdzL9l7",
     "type": "MD",
     "hide_input_from_viewers": true,
     "hide_output_from_viewers": true
    }
   }
  },
  {
   "cell_type": "code",
   "source": [
    "# 2 x 2 dimensional matrix S_POLAR for covariances\n",
    "S_POLAR = np.array([[5000, 1000], [300, 300]])  # replace with your values\n",
    "\n",
    "# Jacobian of F\n",
    "nablaF = np.array([[np.cos(theta), -r*np.sin(theta)],\n",
    "                   [np.sin(theta), r*np.cos(theta)]])\n",
    "# transformation for covariance matrix\n",
    "S_CARTESIAN = nablaF @ S_POLAR @ nablaF.T\n",
    "\n",
    "print(\"S_POLAR\\n\", S_POLAR)\n",
    "print(\"Jacobian of F:\\n\", nablaF)\n",
    "print(\"S_CARTESIAN:\\n\", S_CARTESIAN)"
   ],
   "execution_count": 6,
   "outputs": [
    {
     "name": "stdout",
     "output_type": "stream",
     "text": [
      "S_POLAR\n",
      " [[5000 1000]\n",
      " [ 300  300]]\n",
      "Jacobian of F:\n",
      " [[  0.92847669 -20.        ]\n",
      " [  0.37139068  50.        ]]\n",
      "S_CARTESIAN:\n",
      " [[ 100169.95086457 -254080.37158283]\n",
      " [-291776.52523277  774830.04913543]]\n"
     ]
    }
   ],
   "metadata": {
    "datalore": {
     "node_id": "adnJPRmWHrP8I9dnjzwmqk",
     "type": "CODE",
     "hide_input_from_viewers": true,
     "hide_output_from_viewers": true
    },
    "ExecuteTime": {
     "end_time": "2023-09-17T13:22:53.389554700Z",
     "start_time": "2023-09-17T13:22:53.302554800Z"
    }
   }
  },
  {
   "cell_type": "markdown",
   "source": [
    "### Draw cartesiam coordinates"
   ],
   "attachments": {},
   "metadata": {
    "datalore": {
     "node_id": "c2xriL2N3gdYrYvuPcXxwW",
     "type": "MD",
     "hide_input_from_viewers": true,
     "hide_output_from_viewers": true
    }
   }
  },
  {
   "cell_type": "code",
   "source": [
    "# we now draw the cartesian coordinates\n",
    "AXIS = [0, 4000, 0, 4000]\n",
    "fig, ax = plt.subplots()\n",
    "ax.set_title(\"(d, alpha) in cartesian coordinates (x,y)\")\n",
    "ax.set_xlim(AXIS[0], AXIS[1])\n",
    "ax.set_ylim(AXIS[2], AXIS[3])\n",
    "ax.set_aspect(\"equal\")\n",
    "ax.grid(True)\n",
    "cov_ellipse = Ellipse(xy=x_CARTESIAN, width=2*np.sqrt(S_CARTESIAN[0,0]), height=2*np.sqrt(S_CARTESIAN[1,1]), angle=np.rad2deg(np.arccos(S_CARTESIAN[0,1]/np.sqrt(S_CARTESIAN[0,0]*S_CARTESIAN[1,1]))), edgecolor='b', lw=2, facecolor='none')\n",
    "ax.add_artist(cov_ellipse)\n",
    "plt.show()"
   ],
   "execution_count": 7,
   "outputs": [
    {
     "data": {
      "text/plain": "<Figure size 640x480 with 1 Axes>",
      "image/png": "[encoded data removed]"
     },
     "metadata": {},
     "output_type": "display_data"
    }
   ],
   "metadata": {
    "datalore": {
     "node_id": "7QvTr45cO0qfgOqoGL7aMh",
     "type": "CODE",
     "hide_input_from_viewers": true,
     "hide_output_from_viewers": true
    },
    "ExecuteTime": {
     "end_time": "2023-09-17T13:22:53.634597500Z",
     "start_time": "2023-09-17T13:22:53.385556400Z"
    }
   }
  },
  {
   "cell_type": "markdown",
   "source": [
    "## Part 2"
   ],
   "attachments": {},
   "metadata": {
    "datalore": {
     "node_id": "VBUG1zZq8mGNwCmGl2fSRo",
     "type": "MD",
     "hide_input_from_viewers": true,
     "hide_output_from_viewers": true
    }
   }
  },
  {
   "cell_type": "code",
   "source": [
    "import sympy\n",
    "\n",
    "d, alpha = sympy.symbols('d alpha')\n",
    "J = sympy.Matrix([d * sympy.cos(alpha), d * sympy.sin(alpha)]).jacobian([d, alpha])\n",
    "J"
   ],
   "execution_count": 8,
   "outputs": [
    {
     "data": {
      "text/plain": "Matrix([\n[cos(alpha), -d*sin(alpha)],\n[sin(alpha),  d*cos(alpha)]])",
      "text/latex": "$\\displaystyle \\left[\\begin{matrix}\\cos{\\left(\\alpha \\right)} & - d \\sin{\\left(\\alpha \\right)}\\\\\\sin{\\left(\\alpha \\right)} & d \\cos{\\left(\\alpha \\right)}\\end{matrix}\\right]$"
     },
     "execution_count": 8,
     "metadata": {},
     "output_type": "execute_result"
    }
   ],
   "metadata": {
    "datalore": {
     "node_id": "ankziGUP41GU26hoBpzzcw",
     "type": "CODE",
     "hide_input_from_viewers": true,
     "hide_output_from_viewers": true
    },
    "ExecuteTime": {
     "end_time": "2023-09-17T13:22:53.745554200Z",
     "start_time": "2023-09-17T13:22:53.637556900Z"
    }
   }
  },
  {
   "cell_type": "markdown",
   "source": [
    "What we did\n",
    "- loading the symbolic package\n",
    "- declaring \"d\" as symbolic variable\n",
    "- declaring \"alpha\" as symbolic variable\n",
    "- calculating the Jacobian with the first variable d and the second variable alpha\n",
    "- as result, you get a 2 x 2 matrix, exactly as in Chapter 2 / slides 29, 30"
   ],
   "attachments": {},
   "metadata": {
    "datalore": {
     "node_id": "TNiM00POZcfCTiqmrgNIJt",
     "type": "MD",
     "hide_input_from_viewers": true,
     "hide_output_from_viewers": true
    }
   }
  },
  {
   "cell_type": "markdown",
   "source": [],
   "attachments": {},
   "metadata": {
    "datalore": {
     "node_id": "PH9yRyQKUsbBxt3tGsskJF",
     "type": "MD",
     "hide_input_from_viewers": true,
     "hide_output_from_viewers": true
    }
   }
  }
 ],
 "metadata": {
  "kernelspec": {
   "name": "python3",
   "language": "python",
   "display_name": "Python 3 (ipykernel)"
  },
  "datalore": {
   "computation_mode": "JUPYTER",
   "package_manager": "pip",
   "base_environment": "default",
   "packages": [],
   "report_row_ids": [
    "rURFCYmiaW8eft85FWkvFM",
    "oljx77fd8o3WK8MGoLbLKs",
    "U7KckHJnmopZtInGwlHZEZ",
    "VD9t3dMQ8K0ikacwcAMxQl"
   ],
   "version": 3
  }
 },
 "nbformat": 4,
 "nbformat_minor": 4
}
