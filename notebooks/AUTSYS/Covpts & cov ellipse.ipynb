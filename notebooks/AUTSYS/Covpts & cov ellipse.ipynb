{
 "cells": [
  {
   "cell_type": "code",
   "execution_count": null,
   "outputs": [],
   "source": [
    "import matplotlib.pyplot as plt\n",
    "from numpy.linalg import eig, inv\n",
    "import numpy as np\n",
    "from scipy.linalg import sqrtm"
   ],
   "metadata": {
    "collapsed": false
   }
  },
  {
   "cell_type": "markdown",
   "source": [
    "# Covpts\n",
    "Generates a set of points for a covariance matrix,\n",
    "mean x, variance P, and with 'n' points to it.\n",
    "The default value of n is 250."
   ],
   "metadata": {
    "collapsed": false
   }
  },
  {
   "cell_type": "code",
   "execution_count": null,
   "outputs": [],
   "source": [
    "def covpts(xm, P, n=250):\n",
    "    if n is None:\n",
    "        n = 250\n",
    "\n",
    "    Psqrt = np.real(sqrtm(P[:2, :2]))\n",
    "    xm = xm[:2]\n",
    "    angle = 2 * np.pi / n\n",
    "\n",
    "    x = np.zeros(n + 1)\n",
    "    y = np.zeros(n + 1)\n",
    "\n",
    "    for c in range(n + 1):\n",
    "        xy = Psqrt @ np.array([np.cos(c * angle), np.sin(c * angle)])\n",
    "        x[c] = xy[0] + xm[0]\n",
    "        y[c] = xy[1] + xm[1]\n",
    "\n",
    "    return x, y\n",
    "\n",
    "covpts([100, 200], np.array([[10, 20], [30, 40]]))"
   ],
   "metadata": {
    "collapsed": false
   }
  },
  {
   "cell_type": "markdown",
   "source": [
    "Plot 2x2 covariance ellipse\n",
    "===========================\n",
    "Indicate pose uncertainty $S$ of pose $E$ by drawing the error ellipse at $E$\n",
    "\n",
    "Input arguments:\n",
    "- `E` is the expected value of the pose with `x` and `y` coordinates\n",
    "- `S` is a 2x2 covariance matrix with the following structure:\n",
    "\n",
    "```\n",
    "xx xy\n",
    "xy yy\n",
    "```\n"
   ],
   "metadata": {
    "collapsed": false
   }
  },
  {
   "cell_type": "code",
   "execution_count": null,
   "outputs": [],
   "source": [
    "def covellipse(E, S, color='blue', linewidth=1):\n",
    "    E = E[0:2]\n",
    "    xs, ys = covpts(E, S)\n",
    "    plt.plot(xs, ys, color=color, linewidth=linewidth)\n",
    "    plt.plot(E[0], E[1], 'x', color=color, linewidth=linewidth)\n",
    "\n",
    "covellipse(E = np.array([7, 8]), S = np.array([[30, 30], [9, 11]]))"
   ],
   "metadata": {
    "collapsed": false
   }
  }
 ],
 "metadata": {
  "kernelspec": {
   "display_name": "Python 3",
   "language": "python",
   "name": "python3"
  },
  "language_info": {
   "codemirror_mode": {
    "name": "ipython",
    "version": 2
   },
   "file_extension": ".py",
   "mimetype": "text/x-python",
   "name": "python",
   "nbconvert_exporter": "python",
   "pygments_lexer": "ipython2",
   "version": "2.7.6"
  }
 },
 "nbformat": 4,
 "nbformat_minor": 0
}
