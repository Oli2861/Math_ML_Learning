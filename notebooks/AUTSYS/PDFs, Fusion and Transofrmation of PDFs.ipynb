{
 "cells": [
  {
   "cell_type": "code",
   "source": [
    "import numpy as np\n",
    "\n",
    "from distributions.Distribution import Distribution\n",
    "from distributions.Distribution import DisitrbutionOperations\n",
    "from distributions.Distribution2d import Distribution2D\n",
    "from distributions.Distribution2d import Distribution2DOperations"
   ],
   "execution_count": 5,
   "outputs": [],
   "metadata": {
    "datalore": {
     "node_id": "dYKltYvcCVYqGKz9CqAfeR",
     "type": "CODE",
     "hide_input_from_viewers": true,
     "hide_output_from_viewers": true
    }
   }
  },
  {
   "cell_type": "markdown",
   "source": [
    "# Basics\n",
    "|                        | 1-dimensional                                                                            | n-dimensional                                                                                                |\n",
    "| ---------------------- | ---------------------------------------------------------------------------------------- | ------------------------------------------------------------------------------------------------------------ |\n",
    "| Formula                | $$p(x) = \\frac{1}{\\sqrt{2\\pi \\sigma_x^2}}e^{-\\frac{1}{2}(\\frac{x -\\mu_x}{\\sigma_x})^2}$$ | $$p(x) = \\frac{1}{\\sqrt{(2\\pi)^n det(\\sum_x)}}e^{-\\frac{1}{2}(x-\\mu_x)^T\\sum_x^{-1}(x\\mu_x)}$$               |\n",
    "| Notation               | $X \\sim N(\\mu_x, \\sigma_x^2)$                                                            | $X \\sim N(\\mu_x, \\sum_x)$                                                                                    |\n",
    "| Expected value $\\mu_x$ | Scalar                                                                                   | n-dimensional vector of expected values $\\mu_x = \\begin{pmatrix}\\mu_1 \\\\ \\mu_2 \\\\ ... \\\\ \\mu_n\\end{pmatrix}$ |\n",
    "| Variance               | Scalar $\\sigma_x^2$                                                                      | $\\sum_x$ is $n \\times n$ covariance matrix $\\sum_x \\begin{pmatrix} \\sigma_{11}^2 \\sigma_{12}^2 ... \\sigma_{1n}^2 \\\\ \\sigma_{21}^2 \\sigma_{22}^2 ... \\sigma_{2n}^2 \\\\ ... ... ... ... \\\\ \\sigma_{n1}^2 \\sigma_{n2}^2 ... \\sigma_{nn}^2 \\\\ \\end{pmatrix}$                                                                                                        |\n",
    "##### Input 1\n",
    "$N^\\text{~}(\\mu_1, \\sigma_1)$\n",
    "- $\\mu = 1$\n",
    "- $\\sigma = 1$\n",
    "##### Input 2\n",
    "$N^\\text{~}(\\mu_2, \\sigma_2)$\n",
    "- $\\mu = 2$\n",
    "- $\\sigma = 2$"
   ],
   "attachments": {},
   "metadata": {
    "datalore": {
     "node_id": "xuoGEGqEYnt2jDxPsSZXUz",
     "type": "MD",
     "hide_input_from_viewers": true,
     "hide_output_from_viewers": true
    }
   }
  },
  {
   "cell_type": "code",
   "source": [
    "# --- For the 2-dimensional casse ---\n",
    "\n",
    "# 2d grid\n",
    "x, y = np.mgrid[0:3000:1, 0:3000:1]\n",
    "pos = np.empty(x.shape + (2,))\n",
    "pos[:, :, 0] = x\n",
    "pos[:, :, 1] = y"
   ],
   "execution_count": null,
   "outputs": [],
   "metadata": {
    "datalore": {
     "node_id": "ju1BZR9Okqk1qq5SgnWx6X",
     "type": "CODE",
     "hide_input_from_viewers": true,
     "hide_output_from_viewers": true
    }
   }
  },
  {
   "cell_type": "code",
   "source": [
    "dist1 = Distribution(mu=0, variance=1, name=\"dist1\")\n",
    "dist2 = Distribution(mu=2, variance=4, name=\"dist2\")\n",
    "\n",
    "DisitrbutionOperations.plot_distributions_plotly(dist1, dist2)"
   ],
   "execution_count": null,
   "outputs": [],
   "metadata": {
    "datalore": {
     "node_id": "46bi438qkRZKXQS6TFb4vu",
     "type": "CODE",
     "hide_input_from_viewers": true,
     "hide_output_from_viewers": true
    }
   }
  },
  {
   "cell_type": "code",
   "source": [
    "dist1_2d = Distribution2D(\n",
    "    mu=[1000, 2000],\n",
    "    covariance_matrix=np.array([[400 * 400, 0], [0, 300 * 300]]),\n",
    "    name=\"dist1_2d\"\n",
    ")\n",
    "\n",
    "dist2_2d = Distribution2D(\n",
    "    mu=[1100, 2050],\n",
    "    covariance_matrix=np.array([[500 * 500, 0], [0, 200 * 200]]),\n",
    "    name=\"dist2_2d\"\n",
    ")\n",
    "\n",
    "Distribution2DOperations.plot_distribution2d(dist1_2d, dist2_2d)"
   ],
   "execution_count": null,
   "outputs": [],
   "metadata": {
    "datalore": {
     "node_id": "M0hGwzvOD3NXgeUJoDg1YX",
     "type": "CODE",
     "hide_input_from_viewers": true,
     "hide_output_from_viewers": true
    }
   }
  },
  {
   "cell_type": "markdown",
   "source": [
    "# Fusion of probability density functions\n",
    "## 1-dimensional case\n",
    "### Input\n",
    "- $l_1 \\sim N^\\sim(\\mu_1, \\sigma_1^2)$\n",
    "    - $\\mu_1 = 1$\n",
    "    - $\\sigma_1 = 1$\n",
    "- $l_2 \\sim N^\\sim(\\mu_2, \\sigma_2^2)$\n",
    "    - $\\mu_2 = 2$\n",
    "    - $\\sigma_2 = 2$\n",
    "\n",
    "### Output\n",
    "$l \\sim N^\\sim(\\mu, \\sigma^2)$\n",
    "\n",
    "\n",
    "### Calculation\n",
    "#### Fusion formula\n",
    "Combines two probability density functions (PDF)\n",
    "- $\\sigma^2 = \\frac{1}{\\frac{1}{\\sigma_1^2}\\frac{1}{sigma_2^2}}$\n",
    "- $\\mu = \\sigma^2 (\\frac{1}{\\sigma_1^2} \\cdot \\mu_1 + \\frac{1}{\\sigma_2^2} \\cdot \\mu_2)$\n",
    "\n",
    "#### Iterative fusion formula\n",
    "Combines PDFs by applying the fusion formula iteratively.\n",
    "- $\\Sigma = (I - K) \\cdot \\Sigma_1$\n",
    "- $\\mu = \\mu_1 + K \\cdot (\\mu_2 - \\mu_1)$\n",
    "- $K = \\Sigma_1 \\cdot (\\Sigma_1 + \\Sigma_2)^{-1}$"
   ],
   "attachments": {},
   "metadata": {
    "datalore": {
     "node_id": "UsHmYDqxvh1YjwUBzLioOC",
     "type": "MD",
     "hide_input_from_viewers": true,
     "hide_output_from_viewers": true
    }
   }
  },
  {
   "cell_type": "code",
   "source": [
    "fused = fusion(dist1, dist2)\n",
    "DisitrbutionOperations.plot_distributions_plotly(dist1, dist2, fused)"
   ],
   "execution_count": null,
   "outputs": [],
   "metadata": {
    "datalore": {
     "node_id": "HQAauNU12XwfJj5OJcAyrP",
     "type": "CODE",
     "hide_input_from_viewers": true,
     "hide_output_from_viewers": true
    }
   }
  },
  {
   "cell_type": "markdown",
   "source": [
    "## 2-dimensional case\n",
    "### Input\n",
    "$l_1 \\sim N(\\mu_1, \\Sigma_1)$\n",
    "$l_2 \\sim N(\\mu_2, \\Sigma_2)$\n",
    "\n",
    "### Output\n",
    "$l \\sim N(\\mu, \\Sigma)$\n",
    "\n",
    "### Calculation\n",
    "#### Fusion formula\n",
    "$\\Sigma = (\\Sigma_1^{-1} + \\Sigma_2^{-1})^{-1}$\n",
    "$\\mu = \\Sigma \\cdot (\\Sigma_1^{-1} \\cdot \\mu_1 + \\Sigma_2^{-1} \\cdot \\mu_2)$\n",
    "#### Iterative fusion formula\n",
    "$\\Sigma = (I - K) \\cdot \\Sigma_1$\n",
    "$\\mu = \\mu_1 + K \\cdot (\\mu_2 - \\mu_1)$\n",
    "$K = \\Sigma_1 \\cdot (\\Sigma_1 + \\Sigma_2)^{-1}$"
   ],
   "attachments": {},
   "metadata": {
    "datalore": {
     "node_id": "lcS06vyGnreJe40augrlAU",
     "type": "MD",
     "hide_input_from_viewers": true,
     "hide_output_from_viewers": true
    }
   }
  },
  {
   "cell_type": "code",
   "source": [
    "fused2d = Distribution2DOperations.fusion_2d(dist1_2d, dist2_2d)\n",
    "Distribution2DOperations.plot_distribution2d(dist1_2d, dist2_2d, fused2d)"
   ],
   "execution_count": null,
   "outputs": [],
   "metadata": {
    "datalore": {
     "node_id": "uRrs9ZcuxC0HQUJS6s3EbY",
     "type": "CODE",
     "hide_input_from_viewers": true,
     "hide_output_from_viewers": true
    }
   }
  },
  {
   "cell_type": "markdown",
   "source": [
    "# Transformations of probability density functions\n",
    "## Linear transformation\n",
    "- $F(u) = Au+b$\n",
    "    - $A$: Invariable transformation $n\\times m$ matrix\n",
    "    - $b$: N-dimensional column vector\n",
    "    - $u$: M-dimensional column vector\n",
    "- Find $A$ and $b$"
   ],
   "attachments": {},
   "metadata": {
    "datalore": {
     "node_id": "71vN4OJiuU6aYFgue7vr0x",
     "type": "MD",
     "hide_input_from_viewers": true,
     "hide_output_from_viewers": true
    }
   }
  },
  {
   "cell_type": "code",
   "source": [
    "dist = Distribution(mu=5, variance=9, name=\"Original\")\n",
    "print(str(dist))\n",
    "\n",
    "x = 10\n",
    "y = 20\n",
    "# m-dimensional input --> 2\n",
    "u: np.ndarray = np.array([10, 20])\n",
    "# n x m-dimensional tranformation matrix --> 3 x 2\n",
    "A: np.ndarray = np.array([[1, 1], [2, 1], [3, 1]])\n",
    "# n dimensional column vector --> 3\n",
    "b: np.ndarray = np.array([0, 30, 0])\n",
    "\n",
    "Fu = A @ u + b\n",
    "print(Fu)"
   ],
   "execution_count": null,
   "outputs": [],
   "metadata": {
    "datalore": {
     "node_id": "Dvi9HCUk9Qge5YuXUSkn3J",
     "type": "CODE",
     "hide_input_from_viewers": true,
     "hide_output_from_viewers": true
    }
   }
  },
  {
   "cell_type": "markdown",
   "source": [
    "### Linear transformed mean\n",
    "$\\mu_x = A \\cdot \\mu_u + b$\n",
    "\n",
    "### Linear transformed sigma (std)\n",
    "$\\Sigma_x = A \\cdot \\Sigma_u \\cdot A^T$"
   ],
   "attachments": {},
   "metadata": {
    "datalore": {
     "node_id": "p74CSMJVnlXvV0iKTvN0MT",
     "type": "MD",
     "hide_input_from_viewers": true,
     "hide_output_from_viewers": true
    }
   }
  },
  {
   "cell_type": "code",
   "source": [
    "print(str(dist))\n",
    "DisitrbutionOperations.linear_transform(dist, A, b)"
   ],
   "execution_count": null,
   "outputs": [],
   "metadata": {
    "datalore": {
     "node_id": "vdVYW945xOyIFC0xeRYKQV",
     "type": "CODE",
     "hide_input_from_viewers": true,
     "hide_output_from_viewers": true
    }
   }
  },
  {
   "cell_type": "markdown",
   "source": [
    "## Non-linear transformations of probability density functions\n",
    "- e.g. polar coordinates to cartesian coordinates"
   ],
   "attachments": {},
   "metadata": {
    "datalore": {
     "node_id": "g0NW21K4bf0HAzBR6oln3I",
     "type": "MD",
     "hide_input_from_viewers": true,
     "hide_output_from_viewers": true
    }
   }
  },
  {
   "cell_type": "markdown",
   "source": [
    "##"
   ],
   "attachments": {},
   "metadata": {
    "datalore": {
     "node_id": "rYOd0ygjp8R29RIL5ayRJA",
     "type": "MD",
     "hide_input_from_viewers": true,
     "hide_output_from_viewers": true
    }
   }
  },
  {
   "cell_type": "code",
   "source": [],
   "execution_count": null,
   "outputs": [],
   "metadata": {
    "datalore": {
     "node_id": "o0ts0W6HUrXFd9aayRcg5c",
     "type": "CODE",
     "hide_input_from_viewers": true,
     "hide_output_from_viewers": true
    }
   }
  }
 ],
 "metadata": {
  "kernelspec": {
   "name": "python3",
   "language": "python",
   "display_name": "Python 3 (ipykernel)"
  },
  "datalore": {
   "computation_mode": "JUPYTER",
   "package_manager": "pip",
   "base_environment": "default",
   "packages": [],
   "report_row_ids": [],
   "version": 3
  }
 },
 "nbformat": 4,
 "nbformat_minor": 4
}
