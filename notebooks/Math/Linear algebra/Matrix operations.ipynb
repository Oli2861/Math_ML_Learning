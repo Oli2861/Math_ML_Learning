{
 "cells": [
  {
   "cell_type": "markdown",
   "source": [
    "# Transposition\n",
    ">Transposition is a special case of permutation where the entries of a matrix are permuted such that the rows become columns and the columns become rows.\n",
    "\n",
    "- A permutation is a bijective function from a set to itself.\n",
    "- A bijective function is a function that is both injective and surjective --> every element of the domain is mapped to exactly one element of the codomain and every element of the codomain is mapped to by at least one element of the domain.\n",
    "\n",
    "## Matrix Transposition\n",
    "$$A = \\begin{bmatrix}1 & 2 & 3\\\\4 & 5 & 6\\end{bmatrix}$$\n",
    "$$A^T = \\begin{bmatrix}1 & 4 \\\\2 & 5 \\\\ 3 & 6\\end{bmatrix}$$\n",
    "\n",
    "## Vector transposition\n",
    "$$A = \\begin{pmatrix}1 \\\\ 2 \\\\ 3\\end{pmatrix}$$\n",
    "$$A^T = \\begin{pmatrix}1 & 2 & 3\\end{pmatrix}$$"
   ],
   "metadata": {
    "collapsed": false
   }
  },
  {
   "cell_type": "code",
   "execution_count": 347,
   "metadata": {
    "collapsed": true,
    "ExecuteTime": {
     "end_time": "2023-09-23T17:54:35.185371800Z",
     "start_time": "2023-09-23T17:54:35.062854100Z"
    }
   },
   "outputs": [],
   "source": [
    "A = [[1, 2, 3], [4, 5, 6]]\n",
    "a = [[1], [2], [3]]"
   ]
  },
  {
   "cell_type": "code",
   "execution_count": 348,
   "outputs": [],
   "source": [
    "def transpose(matrix: list[list[float]]) -> list[list[float]]:\n",
    "    \"\"\"\n",
    "    Function to transpose 2d matrices / 1d vectors.\n",
    "    :param matrix: Matrix / vector to be transposed.\n",
    "    :return: Transposed matrix / vector.\n",
    "    \"\"\"\n",
    "    result = []\n",
    "    for rowIndex, row in enumerate(matrix):\n",
    "        for columnIndex, columnEntry in enumerate(row):\n",
    "            # Original columnIndex = row index of new matrix\n",
    "            if rowIndex == 0:\n",
    "                result.append([])\n",
    "            result[columnIndex].append(columnEntry)\n",
    "    return result"
   ],
   "metadata": {
    "collapsed": false,
    "ExecuteTime": {
     "end_time": "2023-09-23T17:54:35.213881900Z",
     "start_time": "2023-09-23T17:54:35.127372400Z"
    }
   }
  },
  {
   "cell_type": "code",
   "execution_count": 349,
   "outputs": [
    {
     "data": {
      "text/plain": "[[1, 4], [2, 5], [3, 6]]"
     },
     "execution_count": 349,
     "metadata": {},
     "output_type": "execute_result"
    }
   ],
   "source": [
    "transpose(A)"
   ],
   "metadata": {
    "collapsed": false,
    "ExecuteTime": {
     "end_time": "2023-09-23T17:54:35.292901100Z",
     "start_time": "2023-09-23T17:54:35.187372500Z"
    }
   }
  },
  {
   "cell_type": "code",
   "execution_count": 350,
   "outputs": [
    {
     "data": {
      "text/plain": "[[1, 2, 3]]"
     },
     "execution_count": 350,
     "metadata": {},
     "output_type": "execute_result"
    }
   ],
   "source": [
    "transpose(a)"
   ],
   "metadata": {
    "collapsed": false,
    "ExecuteTime": {
     "end_time": "2023-09-23T17:54:35.315925300Z",
     "start_time": "2023-09-23T17:54:35.249391200Z"
    }
   }
  },
  {
   "cell_type": "code",
   "execution_count": 351,
   "outputs": [],
   "source": [
    "def transpose_with_list_comprehensions(matrix: list) -> list:\n",
    "    return [[row[columnIndex] for row in matrix] for columnIndex in range(len(matrix[0]))]"
   ],
   "metadata": {
    "collapsed": false,
    "ExecuteTime": {
     "end_time": "2023-09-23T17:54:35.388439300Z",
     "start_time": "2023-09-23T17:54:35.310926900Z"
    }
   }
  },
  {
   "cell_type": "markdown",
   "source": [
    "# Matrix multiplication\n",
    ">The result of multiplying matrix $A$ ($m \\times n$) with matrix $B$ ($n \\times p$) yields a matrix $C$ ($m \\times p$ in which entry $C_{i, j}$ is the product of the $i$th row of $A$ and the $j$th column of $B$.\n",
    "A matrix - vector multiplication is essentially applying a transformation to a vector.\n",
    "A matrix - matrix multiplication is essentially applying a transformation to a matrix."
   ],
   "metadata": {
    "collapsed": false
   }
  },
  {
   "cell_type": "code",
   "execution_count": 352,
   "outputs": [
    {
     "name": "stdout",
     "output_type": "stream",
     "text": [
      "[\n",
      "  1 2 3 \n",
      "  4 5 6 \n",
      "]\n",
      "[\n",
      "  1 2 \n",
      "  3 4 \n",
      "  5 6 \n",
      "]\n"
     ]
    }
   ],
   "source": [
    "from oli.math.math_utility import pretty_print_matrix\n",
    "\n",
    "A = [[1, 2, 3], [4, 5, 6]]\n",
    "B = [[1, 2], [3, 4], [5, 6]]\n",
    "\n",
    "pretty_print_matrix(A)\n",
    "pretty_print_matrix(B)"
   ],
   "metadata": {
    "collapsed": false,
    "ExecuteTime": {
     "end_time": "2023-09-23T17:54:35.467973700Z",
     "start_time": "2023-09-23T17:54:35.390439400Z"
    }
   }
  },
  {
   "cell_type": "code",
   "execution_count": 353,
   "outputs": [],
   "source": [
    "def multiplication(A: list[list[float]], B: list[list[float]]) -> list[list[float]]:\n",
    "    \"\"\"\n",
    "    Function to multiply two 2d matrices.\n",
    "    :param A: First matrix.\n",
    "    :param B: Second matrix.\n",
    "    :return: Matrix product.\n",
    "    \"\"\"\n",
    "    if len(A) != len(B[0]):\n",
    "        raise Exception(\n",
    "            \"Multiplication is only possible if the number of columns of A corresponds to the number of rows in B.\")\n",
    "    m = len(A)  # Rows of A\n",
    "    n = len(A[0])  # Columns of A\n",
    "    n = len(B)  # Rows of B\n",
    "    p = len(B[0])  # Columns of B\n",
    "    C = [[0 for _ in range(p)] for _ in range(m)]\n",
    "\n",
    "    for i in range(0, m):\n",
    "        for j in range(0, p):\n",
    "            C[i][j] = 0\n",
    "            for u in range(0, n):\n",
    "                a_iu = A[i][u]\n",
    "                b_uj = B[u][j]\n",
    "                print(f\"i: {i}, j: {j}, u: {u}, a_iu: {a_iu}, b_uj: {b_uj}\")\n",
    "                C[i][j] += a_iu * b_uj\n",
    "\n",
    "    return C"
   ],
   "metadata": {
    "collapsed": false,
    "ExecuteTime": {
     "end_time": "2023-09-23T17:54:35.544484400Z",
     "start_time": "2023-09-23T17:54:35.467973700Z"
    }
   }
  },
  {
   "cell_type": "code",
   "execution_count": 354,
   "outputs": [
    {
     "name": "stdout",
     "output_type": "stream",
     "text": [
      "i: 0, j: 0, u: 0, a_iu: 1, b_uj: 1\n",
      "i: 0, j: 0, u: 1, a_iu: 2, b_uj: 3\n",
      "i: 0, j: 0, u: 2, a_iu: 3, b_uj: 5\n",
      "i: 0, j: 1, u: 0, a_iu: 1, b_uj: 2\n",
      "i: 0, j: 1, u: 1, a_iu: 2, b_uj: 4\n",
      "i: 0, j: 1, u: 2, a_iu: 3, b_uj: 6\n",
      "i: 1, j: 0, u: 0, a_iu: 4, b_uj: 1\n",
      "i: 1, j: 0, u: 1, a_iu: 5, b_uj: 3\n",
      "i: 1, j: 0, u: 2, a_iu: 6, b_uj: 5\n",
      "i: 1, j: 1, u: 0, a_iu: 4, b_uj: 2\n",
      "i: 1, j: 1, u: 1, a_iu: 5, b_uj: 4\n",
      "i: 1, j: 1, u: 2, a_iu: 6, b_uj: 6\n"
     ]
    }
   ],
   "source": [
    "C = multiplication(A, B)"
   ],
   "metadata": {
    "collapsed": false,
    "ExecuteTime": {
     "end_time": "2023-09-23T17:54:35.605504800Z",
     "start_time": "2023-09-23T17:54:35.545485200Z"
    }
   }
  },
  {
   "cell_type": "code",
   "execution_count": 355,
   "outputs": [
    {
     "name": "stdout",
     "output_type": "stream",
     "text": [
      "[\n",
      "  22 28 \n",
      "  49 64 \n",
      "]\n"
     ]
    }
   ],
   "source": [
    "pretty_print_matrix(C)"
   ],
   "metadata": {
    "collapsed": false,
    "ExecuteTime": {
     "end_time": "2023-09-23T17:54:35.693087500Z",
     "start_time": "2023-09-23T17:54:35.606506Z"
    }
   }
  },
  {
   "cell_type": "code",
   "execution_count": 356,
   "outputs": [
    {
     "name": "stdout",
     "output_type": "stream",
     "text": [
      "[[22 28]\n",
      " [49 64]]\n"
     ]
    }
   ],
   "source": [
    "import numpy as np\n",
    "\n",
    "# Control with np:\n",
    "print(np.matmul(A, B))"
   ],
   "metadata": {
    "collapsed": false,
    "ExecuteTime": {
     "end_time": "2023-09-23T17:54:35.763720200Z",
     "start_time": "2023-09-23T17:54:35.682088500Z"
    }
   }
  },
  {
   "cell_type": "markdown",
   "source": [
    "# Dot product\n",
    ">The dot product of two vectors $x$ and $y$ is the sum of the products of the corresponding entries of the two vectors.\n",
    "> It measures the similarity of two vectors / how much they are pointing in the same direction.\n",
    "$$\\begin{bmatrix}4\\\\ 1\\end{bmatrix} \\cdot \\begin{bmatrix}2\\\\ -1\\end{bmatrix} = 4 \\cdot 2 + 1 \\cdot -1 = 7$$"
   ],
   "metadata": {
    "collapsed": false
   }
  },
  {
   "cell_type": "code",
   "execution_count": 357,
   "outputs": [],
   "source": [
    "a = [4, 1]\n",
    "b = [2, -1]"
   ],
   "metadata": {
    "collapsed": false,
    "ExecuteTime": {
     "end_time": "2023-09-23T17:54:35.823589500Z",
     "start_time": "2023-09-23T17:54:35.745720100Z"
    }
   }
  },
  {
   "cell_type": "code",
   "execution_count": 358,
   "outputs": [],
   "source": [
    "def dot_product(a: list, b: list) -> float:\n",
    "    \"\"\"\n",
    "    Compute the dot product of two vectors.\n",
    "    :param a: First vector.\n",
    "    :param b: Second vector.\n",
    "    :return: Dot product of vector a and b.\n",
    "    \"\"\"\n",
    "    result = 0\n",
    "    for i in range(0, len(A)):\n",
    "        result += a[i] * b[i]\n",
    "    return result"
   ],
   "metadata": {
    "collapsed": false,
    "ExecuteTime": {
     "end_time": "2023-09-23T17:54:35.870868300Z",
     "start_time": "2023-09-23T17:54:35.794590Z"
    }
   }
  },
  {
   "cell_type": "code",
   "execution_count": 359,
   "outputs": [
    {
     "name": "stdout",
     "output_type": "stream",
     "text": [
      "7\n"
     ]
    }
   ],
   "source": [
    "print(dot_product(a, b))"
   ],
   "metadata": {
    "collapsed": false,
    "ExecuteTime": {
     "end_time": "2023-09-23T17:54:35.921146300Z",
     "start_time": "2023-09-23T17:54:35.859866300Z"
    }
   }
  },
  {
   "cell_type": "markdown",
   "source": [
    "# Matrix - vector product\n",
    ">The matrix - vector product is the dot product of the vector with each row of the matrix.\n",
    "\n",
    "$$\\begin{bmatrix}u_x\\ u_y\\end{bmatrix}\\begin{bmatrix}x \\\\ y\\end{bmatrix} = u_x \\cdot x + u_y \\cdot y$$"
   ],
   "metadata": {
    "collapsed": false
   }
  },
  {
   "cell_type": "code",
   "execution_count": 360,
   "outputs": [],
   "source": [
    "A = [[1, 2, 3], [4, 5, 6]]\n",
    "a = [4, 1]"
   ],
   "metadata": {
    "collapsed": false,
    "ExecuteTime": {
     "end_time": "2023-09-23T17:54:35.983320100Z",
     "start_time": "2023-09-23T17:54:35.921714200Z"
    }
   }
  },
  {
   "cell_type": "code",
   "execution_count": 361,
   "outputs": [],
   "source": [
    "def matrix_vector_product(a: list[list[float]], A: list[float]) -> list[float]:\n",
    "    \"\"\"\n",
    "    Compute the matrix - vector product.\n",
    "    :param a: The vector.\n",
    "    :param A: The matrix.\n",
    "    :return: The resulting matrix - vector product.\n",
    "    \"\"\"\n",
    "    return [dot_product(a, row) for row in A]"
   ],
   "metadata": {
    "collapsed": false,
    "ExecuteTime": {
     "end_time": "2023-09-23T17:54:36.043350700Z",
     "start_time": "2023-09-23T17:54:35.984321500Z"
    }
   }
  },
  {
   "cell_type": "code",
   "execution_count": 362,
   "outputs": [
    {
     "data": {
      "text/plain": "[6, 21]"
     },
     "execution_count": 362,
     "metadata": {},
     "output_type": "execute_result"
    }
   ],
   "source": [
    "matrix_vector_product(a, A)"
   ],
   "metadata": {
    "collapsed": false,
    "ExecuteTime": {
     "end_time": "2023-09-23T17:54:36.106842300Z",
     "start_time": "2023-09-23T17:54:36.045352500Z"
    }
   }
  },
  {
   "cell_type": "markdown",
   "source": [
    "# Frobenius inner product\n",
    ">The Frobenius inner product of two matrices $A$ and $B$ is the sum of the products of the corresponding entries of the two matrices.\n",
    "> It is a generalization of the dot product with the difference that the dot product is only defined for vectors.\n",
    "$$\\langle A, B \\rangle_F = \\sum_{i=1}^m \\sum_{j=1}^n A_{i, j} \\cdot B_{i, j}$$"
   ],
   "metadata": {
    "collapsed": false
   }
  },
  {
   "cell_type": "code",
   "execution_count": 363,
   "outputs": [
    {
     "name": "stdout",
     "output_type": "stream",
     "text": [
      "[\n",
      "  2 0 6 \n",
      "  1 -1 2 \n",
      "]\n",
      "[\n",
      "  8 -3 2 \n",
      "  4 1 -5 \n",
      "]\n"
     ]
    }
   ],
   "source": [
    "A = [[2, 0, 6], [1, -1, 2]]\n",
    "B = [[8, -3, 2], [4, 1, -5]]\n",
    "pretty_print_matrix(A)\n",
    "pretty_print_matrix(B)"
   ],
   "metadata": {
    "collapsed": false,
    "ExecuteTime": {
     "end_time": "2023-09-23T17:54:36.169928500Z",
     "start_time": "2023-09-23T17:54:36.107833900Z"
    }
   }
  },
  {
   "cell_type": "code",
   "execution_count": 374,
   "outputs": [],
   "source": [
    "def frobenius_inner_product(A: list[list[float]], B: list[list[float]]) -> float:\n",
    "    result = 0\n",
    "    for m in range(0, len(A)):\n",
    "        for j in range(0, len(A[0])):\n",
    "            result += A[m][j] * B[m][j]\n",
    "            print(f\"m: {m}, j: {j}, A[m][j]: {A[m][j]}, B[m][j]: {B[m][j]}\\t\\tA[m][j] * B[m][j]: {A[m][j] * B[m][j]}\")\n",
    "    return result"
   ],
   "metadata": {
    "collapsed": false,
    "ExecuteTime": {
     "end_time": "2023-09-23T17:55:48.319916300Z",
     "start_time": "2023-09-23T17:55:48.258878200Z"
    }
   }
  },
  {
   "cell_type": "code",
   "execution_count": 375,
   "outputs": [
    {
     "name": "stdout",
     "output_type": "stream",
     "text": [
      "m: 0, j: 0, A[m][j]: 2, B[m][j]: 8\t\tA[m][j] * B[m][j]: 16\n",
      "m: 0, j: 1, A[m][j]: 0, B[m][j]: -3\t\tA[m][j] * B[m][j]: 0\n",
      "m: 0, j: 2, A[m][j]: 6, B[m][j]: 2\t\tA[m][j] * B[m][j]: 12\n",
      "m: 1, j: 0, A[m][j]: 1, B[m][j]: 4\t\tA[m][j] * B[m][j]: 4\n",
      "m: 1, j: 1, A[m][j]: -1, B[m][j]: 1\t\tA[m][j] * B[m][j]: -1\n",
      "m: 1, j: 2, A[m][j]: 2, B[m][j]: -5\t\tA[m][j] * B[m][j]: -10\n"
     ]
    },
    {
     "data": {
      "text/plain": "21"
     },
     "execution_count": 375,
     "metadata": {},
     "output_type": "execute_result"
    }
   ],
   "source": [
    "frobenius_inner_product(A, B)"
   ],
   "metadata": {
    "collapsed": false,
    "ExecuteTime": {
     "end_time": "2023-09-23T17:55:49.353761100Z",
     "start_time": "2023-09-23T17:55:49.305796200Z"
    }
   }
  },
  {
   "cell_type": "code",
   "execution_count": 365,
   "outputs": [],
   "source": [],
   "metadata": {
    "collapsed": false,
    "ExecuteTime": {
     "end_time": "2023-09-23T17:54:36.338680Z",
     "start_time": "2023-09-23T17:54:36.295958300Z"
    }
   }
  }
 ],
 "metadata": {
  "kernelspec": {
   "display_name": "Python 3",
   "language": "python",
   "name": "python3"
  },
  "language_info": {
   "codemirror_mode": {
    "name": "ipython",
    "version": 2
   },
   "file_extension": ".py",
   "mimetype": "text/x-python",
   "name": "python",
   "nbconvert_exporter": "python",
   "pygments_lexer": "ipython2",
   "version": "2.7.6"
  }
 },
 "nbformat": 4,
 "nbformat_minor": 0
}
